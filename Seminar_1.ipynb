{
 "cells": [
  {
   "cell_type": "markdown",
   "id": "c8bbb6f8",
   "metadata": {},
   "source": [
    "## Соедините два словаря в один\n",
    "### Напишите функцию, которая на вход принимает два словаря и возвращает один объединенный словарь. Используйте аннотирование типов\n"
   ]
  },
  {
   "cell_type": "code",
   "execution_count": 15,
   "id": "632c5e93",
   "metadata": {},
   "outputs": [],
   "source": [
    "dict1 = {'One': 1, 'Two': 2, 'Three': 3}\n",
    "dict3 = {'One': 1, 'Two': 2, 'Three': 3}\n",
    "dict2 = {'Four': 4, 'Five': 5, 'Six': 6}"
   ]
  },
  {
   "cell_type": "code",
   "execution_count": 5,
   "id": "e92e3920",
   "metadata": {},
   "outputs": [
    {
     "data": {
      "text/plain": [
       "{'One': 1, 'Two': 2, 'Three': 3, 'Four': 4, 'Five': 5, 'Six': 6}"
      ]
     },
     "execution_count": 5,
     "metadata": {},
     "output_type": "execute_result"
    }
   ],
   "source": [
    "new_dict = {**dict1, **dict2}\n",
    "new_dict"
   ]
  },
  {
   "cell_type": "code",
   "execution_count": 12,
   "id": "b44e9845",
   "metadata": {},
   "outputs": [
    {
     "data": {
      "text/plain": [
       "{'One': 1, 'Two': 2, 'Three': 3, 'Four': 4, 'Five': 5, 'Six': 6}"
      ]
     },
     "execution_count": 12,
     "metadata": {},
     "output_type": "execute_result"
    }
   ],
   "source": [
    "dict1.update(dict2)\n",
    "dict1"
   ]
  },
  {
   "cell_type": "code",
   "execution_count": 20,
   "id": "7bf8dfd5",
   "metadata": {},
   "outputs": [
    {
     "data": {
      "text/plain": [
       "{'One': 1, 'Two': 2, 'Three': 3, 'Four': 4, 'Five': 5, 'Six': 6}"
      ]
     },
     "execution_count": 20,
     "metadata": {},
     "output_type": "execute_result"
    }
   ],
   "source": [
    "def sum_dict(dict1: dict, dict2: dict) -> dict:\n",
    "    return dict1 | dict2\n",
    "\n",
    "sum_dict(dict3, dict2)"
   ]
  },
  {
   "cell_type": "markdown",
   "id": "0190e080",
   "metadata": {},
   "source": [
    "## Напишите функцию, которая из двух списков, делает один словарь, где элементы из первого списка - ключи, а элементы из второго списка - значения\n",
    "\n",
    "\n",
    "Используйте аннотирование типов\n",
    "\n",
    "2.1 Используя цикл for\n",
    "2.2 Используя dict "
   ]
  },
  {
   "cell_type": "code",
   "execution_count": 21,
   "id": "03df3474",
   "metadata": {},
   "outputs": [
    {
     "data": {
      "text/plain": [
       "{'One': 1, 'Two': 2, 'Three': 3}"
      ]
     },
     "execution_count": 21,
     "metadata": {},
     "output_type": "execute_result"
    }
   ],
   "source": [
    "keys = ['One', 'Two', 'Three']\n",
    "values = [1, 2, 3]\n",
    "\n",
    "new_dict = dict(zip(keys, values))\n",
    "new_dict"
   ]
  },
  {
   "cell_type": "code",
   "execution_count": 23,
   "id": "2535a3c7",
   "metadata": {},
   "outputs": [
    {
     "data": {
      "text/plain": [
       "{'One': 1, 'Two': 2, 'Three': 3}"
      ]
     },
     "execution_count": 23,
     "metadata": {},
     "output_type": "execute_result"
    }
   ],
   "source": [
    "keys = ['One', 'Two', 'Three']\n",
    "values = [1, 2, 3]\n",
    "\n",
    "my_dict = {keys[i]: values[i] for i in range(len(keys))}\n",
    "my_dict"
   ]
  },
  {
   "cell_type": "code",
   "execution_count": 24,
   "id": "dd07da6b",
   "metadata": {},
   "outputs": [
    {
     "data": {
      "text/plain": [
       "{'One': 1, 'Two': 2, 'Three': 3}"
      ]
     },
     "execution_count": 24,
     "metadata": {},
     "output_type": "execute_result"
    }
   ],
   "source": [
    "def create_dict(keys: list, values: list) -> dict:\n",
    "    return {keys[i]: values[i] for i in range(len(keys))}\n",
    "\n",
    "create_dict(keys, values)"
   ]
  },
  {
   "cell_type": "markdown",
   "id": "81c14b82",
   "metadata": {},
   "source": [
    "## Извлеките только два ключа name и age из представленного словаря"
   ]
  },
  {
   "cell_type": "markdown",
   "id": "2f163fb1",
   "metadata": {},
   "source": [
    "3.1 Напишите функцию с циклом for\n",
    "Функция на вход принимает:\n",
    "исходный словарь\n",
    "ключи, которые нужно извлечь (аргумент по умолчанию)\n",
    "На выходе словарь с нужными ключами\n",
    "Используйте аннотирование типов\n",
    "3.2 Используя dict comprehensions"
   ]
  },
  {
   "cell_type": "code",
   "execution_count": 28,
   "id": "1ebb8ab0",
   "metadata": {},
   "outputs": [
    {
     "data": {
      "text/plain": [
       "{'name': 'John', 'age': 25}"
      ]
     },
     "execution_count": 28,
     "metadata": {},
     "output_type": "execute_result"
    }
   ],
   "source": [
    "client_dict = {\n",
    "    \n",
    "    \"name\": \"John\",\n",
    "    \"age\": 25,\n",
    "    \"salary\": 5000,\n",
    "    \"city\": \"Moscow\"\n",
    "}\n",
    "\n",
    "def create_new_dict(client_dict: dict, keys: tuple = ('name', 'age')) -> dict:\n",
    "    return {key : client_dict.get(key) for key in keys}\n",
    "\n",
    "create_new_dict(client_dict)"
   ]
  },
  {
   "cell_type": "markdown",
   "id": "84a02be0",
   "metadata": {},
   "source": [
    "### Сгенерируйте случайные целые числа от 0 до 100 в количестве 5 штук с помощью модуля random. Зафиксируйте псевдогенерацию, чтобы сгенерированные значения всегда были одинаковые. \n",
    "Используйте list "
   ]
  },
  {
   "cell_type": "code",
   "execution_count": 35,
   "id": "43621394",
   "metadata": {},
   "outputs": [
    {
     "data": {
      "text/plain": [
       "[59, 78, 47, 34, 17]"
      ]
     },
     "execution_count": 35,
     "metadata": {},
     "output_type": "execute_result"
    }
   ],
   "source": [
    "import random\n",
    "random.seed(9)\n",
    "a = [random.randint(0, 100) for _ in range(5)]\n",
    "a"
   ]
  },
  {
   "cell_type": "markdown",
   "id": "03983198",
   "metadata": {},
   "source": [
    "4.2* Напишите генератор\n",
    "Генератор на вход принимает список с данными о клиенте (данные из пункта 4.1)\n",
    "Внутри генератора реализуйте обход по списку с данными\n",
    "На каждой итерации генератор будет возвращать кортеж из двух элементов:\n",
    "данные по клиенту (в зависимости от итерации, на 0 итерации вернется 0 элемент, на 1 итерации вернется 1 элемент и тд)\n",
    "целочисленное значение, которое показывает, сколько секунд прошло с предыдущей итерации\n",
    "Примечание: секунды, которые возвращаются должны показывать время не с начала запуска генератора, а именно то время, которое прошло с предыдущей итерации. А значит время на первой итерации должно равняться 0.\n",
    "Используйте функцию time из модуля time для подсчета времени.\n",
    "Чтобы проверить работу таймера, запустите проход по генератору в цикле с time.sleep(2)"
   ]
  },
  {
   "cell_type": "code",
   "execution_count": 72,
   "id": "3f94737d",
   "metadata": {},
   "outputs": [
    {
     "name": "stdout",
     "output_type": "stream",
     "text": [
      "(59, 0.0)\n",
      "(78, 2.0005574226379395)\n",
      "(47, 2.0000791549682617)\n",
      "(34, 2.000603199005127)\n",
      "(17, 2.0000457763671875)\n"
     ]
    }
   ],
   "source": [
    "from time import time, sleep\n",
    "def my_range(data_list: list):\n",
    "    start = time()\n",
    "    for i in range(len(data_list)):\n",
    "        time_iter = time()\n",
    "        yield (data_list[i], time_iter-start)\n",
    "        start = time_iter\n",
    "        \n",
    "        \n",
    "ranger = my_range(a)\n",
    "for g in ranger:\n",
    "    print(g)\n",
    "    sleep(2)"
   ]
  }
 ],
 "metadata": {
  "kernelspec": {
   "display_name": "Python 3 (ipykernel)",
   "language": "python",
   "name": "python3"
  },
  "language_info": {
   "codemirror_mode": {
    "name": "ipython",
    "version": 3
   },
   "file_extension": ".py",
   "mimetype": "text/x-python",
   "name": "python",
   "nbconvert_exporter": "python",
   "pygments_lexer": "ipython3",
   "version": "3.9.13"
  }
 },
 "nbformat": 4,
 "nbformat_minor": 5
}
