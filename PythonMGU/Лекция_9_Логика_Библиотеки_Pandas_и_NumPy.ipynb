{
 "cells": [
  {
   "cell_type": "markdown",
   "id": "icF4aN5n-7Ay",
   "metadata": {
    "id": "icF4aN5n-7Ay"
   },
   "source": [
    "# Логика и библиотеки NumPy и Pandas\n",
    "\n",
    "## Логика высказываний\n",
    "\n",
    "Логика — это не естественная, а *нормативная наука*, «наука о правильном мышлении». Её формализацию начал ещё древнегреческий философ Аристотель, при этом **формальную логику** он сам называл «аналитика».\n",
    "\n",
    "История развития логики включает и средневековый схоластический период, и диалектическую логику Гегеля, но благодаря таким учёным, как Джордж Буль, Огастес де Морган, Чарльз Сандерс Пирс и другим, в XIX веке была разработана **математическая логика**, включающая логику высказываний, логику 1-го, 2-го и высших порядков.\n",
    "\n",
    "**Логика высказываний** — это логика 0-го порядка. В ней бывают *атомарные* и *составные* высказывания. **Атомарные высказывания** для логики 0-го порядка являются неделимыми.\n",
    "\n",
    "> Примеры атомарных высказываний: \n",
    "> 1. \"*Петя любит Машу*\",\n",
    "> 2. \"*2 + 2 = 4*\", \n",
    "> 3. \"*Через точку, лежащую вне прямой, можно провести только одну параллельную ей прямую*\".\n",
    "\n",
    "Каждое высказывание либо **истинно**, либо **ложно**, третьего не дано. Два этих значения составляют *булево множество* (в честь Джорджа Буля).\n",
    "\n",
    "Для хранения логических значений в Python используется **логический тип `bool`**, у которого только два возможных состояния `True` и `False`. Обратите внимание, что они пишутся с заглавной буквы.\n",
    "\n",
    "Надо сказать, что как в жизни, так и в программировании, реально бывает третий вариант — высказывание нельзя вычислить: в процессе его вычисления происходит ошибка, например, деление на ноль."
   ]
  },
  {
   "cell_type": "code",
   "execution_count": 1,
   "id": "i2S-1mHu-7A6",
   "metadata": {
    "colab": {
     "base_uri": "https://localhost:8080/"
    },
    "id": "i2S-1mHu-7A6",
    "outputId": "e8fb7274-b15d-4ecb-a188-b79bc4b7f818"
   },
   "outputs": [
    {
     "name": "stdout",
     "output_type": "stream",
     "text": [
      "True <class 'bool'>\n",
      "False <class 'bool'>\n"
     ]
    }
   ],
   "source": [
    "a = True\n",
    "b = False\n",
    "print(a, type(a))\n",
    "print(b, type(b))"
   ]
  },
  {
   "cell_type": "markdown",
   "id": "PHfl1ZrT-7A8",
   "metadata": {
    "id": "PHfl1ZrT-7A8"
   },
   "source": [
    "Атомарные высказывания обретают истинность или ложность в рамках некоторой \"языковой игры\", некоторой теории. Например, высказывание про точку и прямую является истинной аксиомой в геометрии Евклида, но ложной в геометрии Лобачевского или Римана. Короче говоря, высказывания не бывают истинными или ложными \"в вакууме\", важен контекст.\n",
    "\n",
    "В языках программирования таких трудностей практически нет: высказывание — это выражение, которое возвращает логическое значение. Оно должно быть синтаксически корректным и вычислимым без ошибок за конечное время.\n",
    "С точки зрения алгебры логики они являются *предикатами*, которые, вычисляясь для конкретных значений переменных, далее являются простыми логическими значениями `True` или `False`.\n",
    "\n",
    "Вот примеры таких предикатов для чисел:"
   ]
  },
  {
   "cell_type": "code",
   "execution_count": 2,
   "id": "Z_sfurtB-7A8",
   "metadata": {
    "id": "Z_sfurtB-7A8"
   },
   "outputs": [],
   "source": [
    "x = 55"
   ]
  },
  {
   "cell_type": "code",
   "execution_count": 3,
   "id": "XdnCbty5-7A9",
   "metadata": {
    "colab": {
     "base_uri": "https://localhost:8080/"
    },
    "id": "XdnCbty5-7A9",
    "outputId": "72136bb4-4164-497a-f932-b293f1674a49"
   },
   "outputs": [
    {
     "data": {
      "text/plain": [
       "True"
      ]
     },
     "execution_count": 3,
     "metadata": {},
     "output_type": "execute_result"
    }
   ],
   "source": [
    "x > 10"
   ]
  },
  {
   "cell_type": "code",
   "execution_count": 4,
   "id": "ivNXXAoh-7A9",
   "metadata": {
    "colab": {
     "base_uri": "https://localhost:8080/"
    },
    "id": "ivNXXAoh-7A9",
    "outputId": "0096389f-b1a4-44a2-b906-04724eb5ff31"
   },
   "outputs": [
    {
     "data": {
      "text/plain": [
       "False"
      ]
     },
     "execution_count": 4,
     "metadata": {},
     "output_type": "execute_result"
    }
   ],
   "source": [
    "x == 100"
   ]
  },
  {
   "cell_type": "code",
   "execution_count": 5,
   "id": "p8kmUdTd-7A-",
   "metadata": {
    "colab": {
     "base_uri": "https://localhost:8080/"
    },
    "id": "p8kmUdTd-7A-",
    "outputId": "6b1c44bd-3151-4fe6-f6bb-6553ffa28d59"
   },
   "outputs": [
    {
     "data": {
      "text/plain": [
       "True"
      ]
     },
     "execution_count": 5,
     "metadata": {},
     "output_type": "execute_result"
    }
   ],
   "source": [
    "15.3 < x <= 62.5"
   ]
  },
  {
   "cell_type": "markdown",
   "id": "HvXadamr-7A_",
   "metadata": {
    "id": "HvXadamr-7A_"
   },
   "source": [
    "Для строк и множеств есть удобные операции `in` и `not in`: "
   ]
  },
  {
   "cell_type": "code",
   "execution_count": 6,
   "id": "1I519d0e-7A_",
   "metadata": {
    "colab": {
     "base_uri": "https://localhost:8080/"
    },
    "id": "1I519d0e-7A_",
    "outputId": "f35607a4-f14d-473c-da97-def60ac4b64c"
   },
   "outputs": [
    {
     "data": {
      "text/plain": [
       "True"
      ]
     },
     "execution_count": 6,
     "metadata": {},
     "output_type": "execute_result"
    }
   ],
   "source": [
    "\"слово\" in \"Какой-то текст, возможно, содержащий слово\""
   ]
  },
  {
   "cell_type": "code",
   "execution_count": 7,
   "id": "jc5sAgc2-7BA",
   "metadata": {
    "colab": {
     "base_uri": "https://localhost:8080/"
    },
    "id": "jc5sAgc2-7BA",
    "outputId": "0402c772-9b40-4fcb-b638-0b7d4af9c0bf"
   },
   "outputs": [
    {
     "data": {
      "text/plain": [
       "False"
      ]
     },
     "execution_count": 7,
     "metadata": {},
     "output_type": "execute_result"
    }
   ],
   "source": [
    "\"слово\" not in \"Какой-то текст, возможно, содержащий слово\""
   ]
  },
  {
   "cell_type": "code",
   "execution_count": 8,
   "id": "Y4cCOO4r-7BB",
   "metadata": {
    "colab": {
     "base_uri": "https://localhost:8080/"
    },
    "id": "Y4cCOO4r-7BB",
    "outputId": "8a950237-c89b-448f-94ae-580cbf781326"
   },
   "outputs": [
    {
     "data": {
      "text/plain": [
       "False"
      ]
     },
     "execution_count": 8,
     "metadata": {},
     "output_type": "execute_result"
    }
   ],
   "source": [
    "\"пицца\" in {\"борщ\", \"макароны\", \"сосиска\", \"чай\", \"булочка\"}"
   ]
  },
  {
   "cell_type": "code",
   "execution_count": 9,
   "id": "OpYXDzIm-7BB",
   "metadata": {
    "colab": {
     "base_uri": "https://localhost:8080/"
    },
    "id": "OpYXDzIm-7BB",
    "outputId": "7881923d-d1a6-4a52-e962-3db48ef2948f"
   },
   "outputs": [
    {
     "data": {
      "text/plain": [
       "True"
      ]
     },
     "execution_count": 9,
     "metadata": {},
     "output_type": "execute_result"
    }
   ],
   "source": [
    "\"пицца\" not in {\"борщ\", \"макароны\", \"сосиска\", \"чай\", \"булочка\"}"
   ]
  },
  {
   "cell_type": "markdown",
   "id": "uXcTMF8s-7BC",
   "metadata": {
    "id": "uXcTMF8s-7BC"
   },
   "source": [
    "Числовое значение лжи — ноль, истины — единица. При изучении алгебры логики их для краткости так и обозначают.\n",
    "\n",
    "В Python числовой и логический тип отличаются, но они всё-таки связаны друг с другом этой логикой: `False` — `0`, `True` — `1`:"
   ]
  },
  {
   "cell_type": "code",
   "execution_count": 10,
   "id": "BRX2Ar2d-7BC",
   "metadata": {
    "id": "BRX2Ar2d-7BC",
    "outputId": "1f52dcb3-fb3c-4fa7-fd5c-cd9afe1e498f"
   },
   "outputs": [
    {
     "data": {
      "text/plain": [
       "0"
      ]
     },
     "execution_count": 10,
     "metadata": {},
     "output_type": "execute_result"
    }
   ],
   "source": [
    "int(False)"
   ]
  },
  {
   "cell_type": "code",
   "execution_count": 11,
   "id": "Mjkd_NLi-7BC",
   "metadata": {
    "id": "Mjkd_NLi-7BC",
    "outputId": "06439495-ca86-4557-c71b-f0e136619a1d"
   },
   "outputs": [
    {
     "data": {
      "text/plain": [
       "1"
      ]
     },
     "execution_count": 11,
     "metadata": {},
     "output_type": "execute_result"
    }
   ],
   "source": [
    "int(True)"
   ]
  },
  {
   "cell_type": "markdown",
   "id": "CPquRDV6-7BD",
   "metadata": {
    "id": "CPquRDV6-7BD"
   },
   "source": [
    "Применение арифметической операции к логическому значению автоматически (неявно) делает его числом 0 или 1.\n",
    "\n",
    "Используем этот факт — выполним сложение логических выражений `(char in wordX)`, чтобы посчитать, для скольких слов это высказывание является истинным."
   ]
  },
  {
   "cell_type": "code",
   "execution_count": 12,
   "id": "9tS0PBZF-7BE",
   "metadata": {
    "id": "9tS0PBZF-7BE",
    "outputId": "6fb6b9ac-6e72-4af4-c8ec-1171ed5e84d1"
   },
   "outputs": [
    {
     "name": "stdout",
     "output_type": "stream",
     "text": [
      "Символ а есть в 2 словах.\n",
      "Символ б есть в 0 словах.\n",
      "Символ в есть в 2 словах.\n",
      "Символ г есть в 1 словах.\n",
      "Символ д есть в 1 словах.\n",
      "Символ е есть в 3 словах.\n",
      "Символ ж есть в 1 словах.\n",
      "Символ з есть в 0 словах.\n",
      "Символ и есть в 2 словах.\n",
      "Символ к есть в 2 словах.\n"
     ]
    }
   ],
   "source": [
    "word1, word2, word3 = \"складываем\", \"логические\", \"выражения\"\n",
    "for char in \"абвгдежзик\":\n",
    "    print(\"Символ\", char, \"есть в\", (char in word1) + (char in word2) + (char in word3), \"словах.\")"
   ]
  },
  {
   "cell_type": "markdown",
   "id": "KM1sBhlW-7BE",
   "metadata": {
    "id": "KM1sBhlW-7BE"
   },
   "source": [
    "Можно *приводить* значения в обратном направлении — из числового в логический тип. В этом случае истиной становится не только единица, но и *любое ненулевое число*."
   ]
  },
  {
   "cell_type": "code",
   "execution_count": 16,
   "id": "MEkX8Kdk-7BF",
   "metadata": {
    "id": "MEkX8Kdk-7BF",
    "outputId": "e5158fd2-9327-4c5e-9bda-1877aa410a69"
   },
   "outputs": [
    {
     "name": "stdout",
     "output_type": "stream",
     "text": [
      "bool( -5) == True\n",
      "bool( -2) == True\n",
      "bool(  0) == False\n",
      "bool(  1) == True\n",
      "bool(100) == True\n"
     ]
    }
   ],
   "source": [
    "for x in -5, -2, 0, 1, 100:\n",
    "    print(f'bool({x:3}) ==', bool(x))"
   ]
  },
  {
   "cell_type": "markdown",
   "id": "ZayXWG7a-7BF",
   "metadata": {
    "id": "ZayXWG7a-7BF"
   },
   "source": [
    "### Логические операции И, ИЛИ, НЕ\n",
    "**Составные высказывания** образуются из атомарных при помощи **логических операций**. Они бывают *унарные* — применимые к одному значению, и *бинарные* — применимые к двум значениям.\n",
    "\n",
    "Операции  И, ИЛИ, НЕ — это три стандартные логические функции, которые задают полный *базис*. Это значит, что при их помощи может быть выражена любая логическая функция. Но что вообще такое логическая функция и как она задаётся?\n",
    "\n",
    "**Функция** — это отображение из области определения в множество значений. Для логических функций это булево множество {True, False}.\n",
    "\n",
    "Однако, удобнее задавать логическую функцию **таблицей истинности** — перечислить, чему она равна в каждом конкретном случае.\n",
    "#### Таблица истинности для НЕ:\n",
    "| x | not x |\n",
    "|---|-------|\n",
    "| 0 | 1     |\n",
    "| 1 | 0     |\n",
    "\n",
    "Проверим её при помощи Python:"
   ]
  },
  {
   "cell_type": "code",
   "execution_count": null,
   "id": "EMAsxg7b-7BG",
   "metadata": {
    "colab": {
     "base_uri": "https://localhost:8080/"
    },
    "id": "EMAsxg7b-7BG",
    "outputId": "1bd5f06e-1463-4efe-de56-abc7aca7e39f"
   },
   "outputs": [
    {
     "name": "stdout",
     "output_type": "stream",
     "text": [
      "x\t| not x\n",
      "----------------\n",
      "False\t| True\n",
      "True\t| False\n"
     ]
    }
   ],
   "source": [
    "print('x', 'not x', sep='\\t| ')\n",
    "print('-'*16)\n",
    "for x in False, True:\n",
    "    print(x, not x, sep='\\t| ')"
   ]
  },
  {
   "cell_type": "markdown",
   "id": "wQSQSPtx-7BH",
   "metadata": {
    "id": "wQSQSPtx-7BH"
   },
   "source": [
    "#### Таблицы истинности для И и ИЛИ:\n",
    "| x | y | x and y|\n",
    "|---|---|--------|\n",
    "| 0 | 0 | 0      |\n",
    "| 0 | 1 | 0      |\n",
    "| 1 | 0 | 0      |\n",
    "| 1 | 1 | 1      |\n",
    "\n",
    "| x | y | x or y|\n",
    "|---|---|-------|\n",
    "| 0 | 0 | 0     |\n",
    "| 0 | 1 | 1     |\n",
    "| 1 | 0 | 1     |\n",
    "| 1 | 1 | 1     |\n",
    "\n",
    "Вычислим их же на Python:"
   ]
  },
  {
   "cell_type": "code",
   "execution_count": 18,
   "id": "x8iJH823-7BH",
   "metadata": {
    "colab": {
     "base_uri": "https://localhost:8080/"
    },
    "id": "x8iJH823-7BH",
    "outputId": "86630ab6-7ae7-4fe9-b248-e0162309f8a8"
   },
   "outputs": [
    {
     "name": "stdout",
     "output_type": "stream",
     "text": [
      "\t| x\t| y\t| x and y\t| x\t| y\t| x or y\n",
      "\t-------------------------\t------------------------\n",
      "\t| False\t| False\t| False\t\t| False\t| False\t| False\n",
      "\t| False\t| True\t| False\t\t| False\t| True\t| True\n",
      "\t| True\t| False\t| False\t\t| True\t| False\t| True\n",
      "\t| True\t| True\t| True\t\t| True\t| True\t| True\n"
     ]
    }
   ],
   "source": [
    "print('', 'x', 'y', 'x and y', 'x', 'y', 'x or y', sep='\\t| ')\n",
    "print('\\t', '-'*25, '\\t', '-'*24, sep='')\n",
    "for x in False, True:\n",
    "    for y in False, True:\n",
    "        print('', x, y, x and y, sep='\\t| ', end='\\t')\n",
    "        print('', x, y, x or y, sep='\\t| ')"
   ]
  },
  {
   "cell_type": "markdown",
   "id": "7fVfNWEv-7BI",
   "metadata": {
    "id": "7fVfNWEv-7BI"
   },
   "source": [
    "Обратите внимание, что ИЛИ является *неисключающим*. Это значит, что вот такое составное высказывание будет истинным:"
   ]
  },
  {
   "cell_type": "code",
   "execution_count": 19,
   "id": "VWfPrsyd-7BI",
   "metadata": {
    "id": "VWfPrsyd-7BI",
    "outputId": "6ad928b8-7833-4d82-fce5-7ac5cdad8905"
   },
   "outputs": [
    {
     "data": {
      "text/plain": [
       "True"
      ]
     },
     "execution_count": 19,
     "metadata": {},
     "output_type": "execute_result"
    }
   ],
   "source": [
    "\"ворон\" in \"Ты его проворонил!\" or \"ворон\" in \"Я поймал ворона.\""
   ]
  },
  {
   "cell_type": "markdown",
   "id": "d4I5UdGV-7BI",
   "metadata": {
    "id": "d4I5UdGV-7BI"
   },
   "source": [
    "#### Приоритеты операций\n",
    "Если сложное выражение содержит несколько операторов, то они вычисляются в следующей последовательности: вначале действует `not`, затем действует `and`, а затем `or`. Если этот порядок действий нужно изменить, то управлять последовательностью вычислений могут обычные круглые скобки.\n",
    "\n",
    "Зададим логическую функцию, по которой собака на цепи решает, пропускать ей пытающуюся войти группу людей или нет:"
   ]
  },
  {
   "cell_type": "code",
   "execution_count": 20,
   "id": "U0c2j13P-7BJ",
   "metadata": {
    "id": "U0c2j13P-7BJ"
   },
   "outputs": [],
   "source": [
    "def dog_allows_passage(group):\n",
    "    owner = \"хозяин\"\n",
    "    child = \"ребёнок хозяина\"\n",
    "    alien = \"подозрительный незнакомец\"\n",
    "    \n",
    "    return owner in group or child in group and not alien in group"
   ]
  },
  {
   "cell_type": "markdown",
   "id": "U8sZ4Y0h-7BJ",
   "metadata": {
    "id": "U8sZ4Y0h-7BJ"
   },
   "source": [
    "По умолчанию тут такой порядок:\n",
    "``` text\n",
    "owner in group or child in group and not alien in group\n",
    "               3                  2   1\n",
    "```\n",
    "Таким образом, наличие хозяина в группе людей даёт проход при любых людях в группе, а ребёнок обеспечивает проход только при отсутствии в группе подозрительного незнакомца."
   ]
  },
  {
   "cell_type": "code",
   "execution_count": 21,
   "id": "Mb-ACw8Z-7BK",
   "metadata": {
    "colab": {
     "base_uri": "https://localhost:8080/"
    },
    "id": "Mb-ACw8Z-7BK",
    "outputId": "f3750cf7-3566-4847-9210-24574b03f485"
   },
   "outputs": [
    {
     "name": "stdout",
     "output_type": "stream",
     "text": [
      "Пропустить в дом {'хозяин'}\n",
      "Пропустить в дом {'ребёнок хозяина', 'хозяин'}\n",
      "Пропустить в дом {'подозрительный незнакомец', 'хозяин'}\n",
      "Пропустить в дом {'ребёнок хозяина'}\n",
      "Пропустить в дом {'ребёнок хозяина', 'друг ребёнка'}\n",
      "Запретить проход {'подозрительный незнакомец', 'ребёнок хозяина'}\n",
      "Запретить проход {'подозрительный незнакомец'}\n"
     ]
    }
   ],
   "source": [
    "for group in [{\"хозяин\"},\n",
    "              {\"хозяин\", \"ребёнок хозяина\"},\n",
    "              {\"хозяин\", \"подозрительный незнакомец\"},\n",
    "              {\"ребёнок хозяина\"},\n",
    "              {\"ребёнок хозяина\", \"друг ребёнка\"},\n",
    "              {\"ребёнок хозяина\", \"подозрительный незнакомец\"},\n",
    "              {\"подозрительный незнакомец\"}]:\n",
    "    if dog_allows_passage(group):\n",
    "        message = \"Пропустить в дом\"\n",
    "    else:\n",
    "        message = \"Запретить проход\"\n",
    "    print(message, group)"
   ]
  },
  {
   "cell_type": "markdown",
   "id": "H9b_cNAh-7BK",
   "metadata": {
    "id": "H9b_cNAh-7BK"
   },
   "source": [
    "Ещё один типичный пример, когда важно понимать расстановку приоритетов:\n",
    "`A and B or C and D` будет правдой тогда, когда A одновременно истинно с B или же C одновременно истинно с D.\n",
    "\n",
    "Если же мы хотим сделать выражение, где требуется одновременная истинность A, D, а также одного из двух — B или C, то нам обязательно нужно использовать скобки, чтобы Python понял необходимый нам порядок операций:\n",
    "`A and (B or C) and D`."
   ]
  },
  {
   "cell_type": "markdown",
   "id": "8BeotQWa-7BK",
   "metadata": {
    "id": "8BeotQWa-7BK"
   },
   "source": [
    "### Задача из демо-варианта ЕГЭ по информатике 2008 года\n",
    "Вам дано логическое уравнение, зависящее от нескольких логических переменных.\n",
    "Требуется найти количество решений данного логического уравнения.\n",
    "\n",
    "$(\\lnot (K \\lor L) \\lor (L \\land M \\land N)) = 0$\n",
    "\n",
    "В ЕГЭ предполагалось, что эта задача решается вручную через тождественные преобразования и аккуратный перебор предположений. Мы можем воспользоваться полным перебором решений при помощи Python:"
   ]
  },
  {
   "cell_type": "code",
   "execution_count": 22,
   "id": "1APbNxtt-7BL",
   "metadata": {
    "colab": {
     "base_uri": "https://localhost:8080/"
    },
    "id": "1APbNxtt-7BL",
    "outputId": "a1fc7053-d22f-4ae3-87e2-53a059cc683c"
   },
   "outputs": [
    {
     "name": "stdout",
     "output_type": "stream",
     "text": [
      "Количество решений:  10\n"
     ]
    }
   ],
   "source": [
    "count = 0\n",
    "for K in False, True:\n",
    "    for L in False, True:\n",
    "        for M in False, True:\n",
    "            for N in False, True:\n",
    "                count += (not (K or L) or (L and M and N)) == False\n",
    "print(\"Количество решений: \", count)"
   ]
  },
  {
   "cell_type": "markdown",
   "id": "c8n6Led4-7BL",
   "metadata": {
    "id": "c8n6Led4-7BL"
   },
   "source": [
    "Впрочем, писать несколько вложенных циклов не очень удобно, и здесь мы можем заменить это вложение через декартово произведение из модуля itertools:"
   ]
  },
  {
   "cell_type": "code",
   "execution_count": 24,
   "id": "nlRrEni5-7BL",
   "metadata": {
    "id": "nlRrEni5-7BL",
    "outputId": "ac7c7741-cd0d-4e24-9374-b691a70d73ca"
   },
   "outputs": [
    {
     "name": "stdout",
     "output_type": "stream",
     "text": [
      "False | False | False | False\n",
      "False | False | False | True\n",
      "False | False | True | False\n",
      "False | False | True | True\n",
      "False | True | False | False\n",
      "False | True | False | True\n",
      "False | True | True | False\n",
      "False | True | True | True\n",
      "True | False | False | False\n",
      "True | False | False | True\n",
      "True | False | True | False\n",
      "True | False | True | True\n",
      "True | True | False | False\n",
      "True | True | False | True\n",
      "True | True | True | False\n",
      "True | True | True | True\n",
      "Количество решений:  10\n"
     ]
    }
   ],
   "source": [
    "import itertools\n",
    "B = (False, True)\n",
    "count = 0\n",
    "for K, L, M, N in itertools.product(B, B, B, B):\n",
    "    print(K, L, M, N, sep=' | ')\n",
    "    count += ((not (K or L) or (L and M and N)) == False)\n",
    "print(\"Количество решений: \", count)"
   ]
  },
  {
   "cell_type": "markdown",
   "id": "pupXb_gF-7BM",
   "metadata": {
    "id": "pupXb_gF-7BM"
   },
   "source": [
    "### Ленивые операции И и ИЛИ\n",
    "Если значение высказывания уже ясно исходя из значения левого операнда (того, что *слева* от оператора), то логический оператор \"ленится\" вычислять правый операнд. Иногда это бывает важно, особенно если вычисление правого операнда невозможно при условии истинности или ложности левого.\n",
    "\n",
    "В большинстве случаев не важно, какое высказывание стоит слева, а какое справа от И и ИЛИ, поскольку таблица истинности от этого не зависит.\n",
    "Но вот пример, когда мы явно пользуемся \"ленивыми операциями\":"
   ]
  },
  {
   "cell_type": "code",
   "execution_count": null,
   "id": "UpZnIGVV-7BM",
   "metadata": {
    "collapsed": true,
    "id": "UpZnIGVV-7BM"
   },
   "outputs": [],
   "source": [
    "A = \"UCAGAGCGGAUAGUGACGC\"\n",
    "i = 10"
   ]
  },
  {
   "cell_type": "code",
   "execution_count": null,
   "id": "Gzpw9-Ko-7BN",
   "metadata": {
    "colab": {
     "base_uri": "https://localhost:8080/"
    },
    "id": "Gzpw9-Ko-7BN",
    "outputId": "484a2bff-0a07-4d01-ea60-5ed9d7ba7ea7"
   },
   "outputs": [
    {
     "data": {
      "text/plain": [
       "True"
      ]
     },
     "execution_count": 23,
     "metadata": {},
     "output_type": "execute_result"
    }
   ],
   "source": [
    "i < len(A) and A[i] == 'U'"
   ]
  },
  {
   "cell_type": "code",
   "execution_count": null,
   "id": "DnNGVVyg-7BN",
   "metadata": {
    "colab": {
     "base_uri": "https://localhost:8080/"
    },
    "id": "DnNGVVyg-7BN",
    "outputId": "7013eae1-9543-4df5-a94a-93cfe2c0b8dd"
   },
   "outputs": [
    {
     "data": {
      "text/plain": [
       "True"
      ]
     },
     "execution_count": 24,
     "metadata": {},
     "output_type": "execute_result"
    }
   ],
   "source": [
    "A[i] == 'U' and i < len(A)"
   ]
  },
  {
   "cell_type": "markdown",
   "id": "56YVpzoI-7BO",
   "metadata": {
    "id": "56YVpzoI-7BO"
   },
   "source": [
    "Если вам показалось, что второе выражение эквивалентно первому, то посмотрите на эту ошибку. Выражения абсолютно те же самые, но значение `i` другое, в результате во втором высказывании возникает ошибка:"
   ]
  },
  {
   "cell_type": "code",
   "execution_count": 25,
   "id": "w9gbZKv3-7BO",
   "metadata": {
    "id": "w9gbZKv3-7BO"
   },
   "outputs": [],
   "source": [
    "A = \"UCAGAGCGGAUAGUGACGC\"\n",
    "i = 20"
   ]
  },
  {
   "cell_type": "code",
   "execution_count": 26,
   "id": "7pf8SGQ8-7BO",
   "metadata": {
    "colab": {
     "base_uri": "https://localhost:8080/"
    },
    "id": "7pf8SGQ8-7BO",
    "outputId": "33865a37-689f-40ee-abc8-5377695ddcff"
   },
   "outputs": [
    {
     "data": {
      "text/plain": [
       "False"
      ]
     },
     "execution_count": 26,
     "metadata": {},
     "output_type": "execute_result"
    }
   ],
   "source": [
    "i < len(A) and A[i] == 'U'"
   ]
  },
  {
   "cell_type": "code",
   "execution_count": 27,
   "id": "YGe1MiYJ-7BO",
   "metadata": {
    "colab": {
     "base_uri": "https://localhost:8080/",
     "height": 167
    },
    "id": "YGe1MiYJ-7BO",
    "outputId": "ceedad48-5494-47df-90d7-b484f5a74647"
   },
   "outputs": [
    {
     "ename": "IndexError",
     "evalue": "string index out of range",
     "output_type": "error",
     "traceback": [
      "\u001b[1;31m---------------------------------------------------------------------------\u001b[0m",
      "\u001b[1;31mIndexError\u001b[0m                                Traceback (most recent call last)",
      "\u001b[1;32m~\\AppData\\Local\\Temp\\ipykernel_6392\\3216623406.py\u001b[0m in \u001b[0;36m<module>\u001b[1;34m\u001b[0m\n\u001b[1;32m----> 1\u001b[1;33m \u001b[0mA\u001b[0m\u001b[1;33m[\u001b[0m\u001b[0mi\u001b[0m\u001b[1;33m]\u001b[0m \u001b[1;33m==\u001b[0m \u001b[1;34m'U'\u001b[0m \u001b[1;32mand\u001b[0m \u001b[0mi\u001b[0m \u001b[1;33m<\u001b[0m \u001b[0mlen\u001b[0m\u001b[1;33m(\u001b[0m\u001b[0mA\u001b[0m\u001b[1;33m)\u001b[0m\u001b[1;33m\u001b[0m\u001b[1;33m\u001b[0m\u001b[0m\n\u001b[0m",
      "\u001b[1;31mIndexError\u001b[0m: string index out of range"
     ]
    }
   ],
   "source": [
    "A[i] == 'U' and i < len(A)"
   ]
  },
  {
   "cell_type": "markdown",
   "id": "g5h6yziZ-7BP",
   "metadata": {
    "id": "g5h6yziZ-7BP"
   },
   "source": [
    "### Функции all и any\n",
    "Когда требуется осуществить длинное логическое И/ИЛИ с целой последовательностью булевых значений, используются функции `all` и `any`. Они работают с любыми итерируемыми объектами, а значит, их удобно использовать вкупе с генераторами.\n",
    "\n",
    "Допустим, у студента-биолога есть два набора отрезков матричных РНК. Он хочет определить, во всех ли отрезках есть кодон *метионина* — триплет нуклеотидных остатков, который кодирует аминокислоту *метионин*."
   ]
  },
  {
   "cell_type": "code",
   "execution_count": 28,
   "id": "KPUtn5_F-7BP",
   "metadata": {
    "id": "KPUtn5_F-7BP"
   },
   "outputs": [],
   "source": [
    "methionine_code = \"AUG\"\n",
    "A = [\"GCAAUGGCA\", \"GCAGUAAAU\", \"CGAACCAGU\"]\n",
    "B = [\"AUGGCAGCA\", \"GCAUGAAAU\", \"CGAACCAUG\"]"
   ]
  },
  {
   "cell_type": "code",
   "execution_count": 29,
   "id": "_IuuR0KH-7BP",
   "metadata": {
    "colab": {
     "base_uri": "https://localhost:8080/"
    },
    "id": "_IuuR0KH-7BP",
    "outputId": "67d0fa55-b00e-4ea9-a762-4b8e16f680ac"
   },
   "outputs": [
    {
     "data": {
      "text/plain": [
       "False"
      ]
     },
     "execution_count": 29,
     "metadata": {},
     "output_type": "execute_result"
    }
   ],
   "source": [
    "all(methionine_code in gene for gene in A)"
   ]
  },
  {
   "cell_type": "code",
   "execution_count": 30,
   "id": "BFQ0EJmY-7BP",
   "metadata": {
    "colab": {
     "base_uri": "https://localhost:8080/"
    },
    "id": "BFQ0EJmY-7BP",
    "outputId": "eed18a18-8d09-43a7-d9db-ba75d0ada987"
   },
   "outputs": [
    {
     "data": {
      "text/plain": [
       "True"
      ]
     },
     "execution_count": 30,
     "metadata": {},
     "output_type": "execute_result"
    }
   ],
   "source": [
    "all(methionine_code in gene for gene in B)"
   ]
  },
  {
   "cell_type": "markdown",
   "id": "XMCJCQdc-7BQ",
   "metadata": {
    "id": "XMCJCQdc-7BQ"
   },
   "source": [
    "А теперь его задача узнать, есть ли кодон *метионина* хоть в каком-нибудь отрезке из набора:"
   ]
  },
  {
   "cell_type": "code",
   "execution_count": 31,
   "id": "7UEtWDPl-7BQ",
   "metadata": {
    "colab": {
     "base_uri": "https://localhost:8080/"
    },
    "id": "7UEtWDPl-7BQ",
    "outputId": "3f53313a-fac6-4873-a8bf-bbb321657a28"
   },
   "outputs": [
    {
     "data": {
      "text/plain": [
       "True"
      ]
     },
     "execution_count": 31,
     "metadata": {},
     "output_type": "execute_result"
    }
   ],
   "source": [
    "any(methionine_code in gene for gene in A)"
   ]
  },
  {
   "cell_type": "code",
   "execution_count": 32,
   "id": "A-n-BOC9-7BQ",
   "metadata": {
    "colab": {
     "base_uri": "https://localhost:8080/"
    },
    "id": "A-n-BOC9-7BQ",
    "outputId": "d8011074-0d87-465e-d63e-c27a510678c8"
   },
   "outputs": [
    {
     "data": {
      "text/plain": [
       "True"
      ]
     },
     "execution_count": 32,
     "metadata": {},
     "output_type": "execute_result"
    }
   ],
   "source": [
    "any(methionine_code in gene for gene in B)"
   ]
  },
  {
   "cell_type": "markdown",
   "id": "gJrfGcsK-7BQ",
   "metadata": {
    "id": "gJrfGcsK-7BQ"
   },
   "source": [
    "## NumPy и логические выражения"
   ]
  },
  {
   "cell_type": "markdown",
   "id": "5gpI2AA2-7BR",
   "metadata": {
    "id": "5gpI2AA2-7BR"
   },
   "source": [
    "### Векторные логические операции\n",
    "Как вы уже знаете, операции с массивами NumPy векторные, то есть они выполняются сразу со всеми элементами массива. Это касается не только домножений на число и применений функций NumPy, но и логических операций:"
   ]
  },
  {
   "cell_type": "code",
   "execution_count": null,
   "id": "TGOrP6rU-7BR",
   "metadata": {
    "colab": {
     "base_uri": "https://localhost:8080/"
    },
    "id": "TGOrP6rU-7BR",
    "outputId": "c417beee-6f22-4d27-d2c5-37c72dc5d92e"
   },
   "outputs": [
    {
     "name": "stdout",
     "output_type": "stream",
     "text": [
      "[[10 53 61 23]\n",
      " [66 12 63 63]\n",
      " [36 77 91 82]]\n",
      "[[False  True  True False]\n",
      " [ True False  True  True]\n",
      " [False  True  True  True]]\n"
     ]
    }
   ],
   "source": [
    "import numpy as np\n",
    "A = np.array([10, 53, 61, 23, 66, 12, 63, 63, 36, 77, 91, 82]).reshape((3, 4))\n",
    "print(A)\n",
    "print(A > 50)"
   ]
  },
  {
   "cell_type": "markdown",
   "id": "E251sDHj-7BR",
   "metadata": {
    "id": "E251sDHj-7BR"
   },
   "source": [
    "Ценно то, что такой **массив логических значений может быть использован для доступа к элементам исходного массива** как на чтение, так и на запись. Для этого важно совпадение `shape` данных массивов. Можно считать, что логический массив является как бы \"маской доступа\" к элементам исходного массива.\n",
    "\n",
    "Теперь мы можем занулить элементы по некоторому условию:"
   ]
  },
  {
   "cell_type": "code",
   "execution_count": null,
   "id": "SeDsbTF3-7BR",
   "metadata": {
    "colab": {
     "base_uri": "https://localhost:8080/"
    },
    "id": "SeDsbTF3-7BR",
    "outputId": "6f38fb27-c097-4c33-e9b2-d26f79219382"
   },
   "outputs": [
    {
     "name": "stdout",
     "output_type": "stream",
     "text": [
      "[[ 10 530 610  23]\n",
      " [660  12 630 630]\n",
      " [ 36 770 910 820]]\n"
     ]
    }
   ],
   "source": [
    "B = A.copy()\n",
    "B[B > 50] *= 10\n",
    "print(B)"
   ]
  },
  {
   "cell_type": "markdown",
   "id": "vX-6JWXt-7BS",
   "metadata": {
    "id": "vX-6JWXt-7BS"
   },
   "source": [
    "Или поменять им знак:"
   ]
  },
  {
   "cell_type": "code",
   "execution_count": null,
   "id": "XRVmLMvL-7BS",
   "metadata": {
    "colab": {
     "base_uri": "https://localhost:8080/"
    },
    "id": "XRVmLMvL-7BS",
    "outputId": "33b9c4f8-fe4c-4f38-aaed-e6ecec53a01a"
   },
   "outputs": [
    {
     "name": "stdout",
     "output_type": "stream",
     "text": [
      "[[ 10 -53 -61  23]\n",
      " [-66  12 -63 -63]\n",
      " [ 36 -77 -91 -82]]\n"
     ]
    }
   ],
   "source": [
    "B = A.copy()\n",
    "B[B > 50] *= -1  # Домножить на минус единицу.\n",
    "print(B)"
   ]
  },
  {
   "cell_type": "markdown",
   "id": "Zam8peTA-7BS",
   "metadata": {
    "id": "Zam8peTA-7BS"
   },
   "source": [
    "Тем же синтаксисом может быть выполнена операция с картинкой, изменяющая значение цветового канала пиксела по условию на значение этого канала пиксела."
   ]
  },
  {
   "cell_type": "code",
   "execution_count": 35,
   "id": "8zZn6pzs-7BS",
   "metadata": {
    "colab": {
     "base_uri": "https://localhost:8080/",
     "height": 286
    },
    "id": "8zZn6pzs-7BS",
    "outputId": "b1be3bd3-a18d-44af-f71f-37a1cd58e5b4"
   },
   "outputs": [
    {
     "data": {
      "image/png": "[encoded data removed]",
      "text/plain": [
       "<Figure size 640x480 with 1 Axes>"
      ]
     },
     "metadata": {},
     "output_type": "display_data"
    }
   ],
   "source": [
    "import matplotlib.pyplot as plt\n",
    "image = plt.imread(\"2_python.jpg\")\n",
    "plt.imshow(image);"
   ]
  },
  {
   "cell_type": "code",
   "execution_count": 37,
   "id": "4aPbS9YF-7BT",
   "metadata": {
    "colab": {
     "base_uri": "https://localhost:8080/",
     "height": 286
    },
    "id": "4aPbS9YF-7BT",
    "outputId": "43c7d657-88a8-42e7-c26e-78747b8f933a"
   },
   "outputs": [
    {
     "data": {
      "image/png": "[encoded data removed]",
      "text/plain": [
       "<Figure size 640x480 with 1 Axes>"
      ]
     },
     "metadata": {},
     "output_type": "display_data"
    }
   ],
   "source": [
    "data = image.copy()\n",
    "data[data > 220] = 0\n",
    "plt.imshow(data);"
   ]
  },
  {
   "cell_type": "markdown",
   "id": "wxMiGMwM-7BT",
   "metadata": {
    "id": "wxMiGMwM-7BT"
   },
   "source": [
    "#### Логические операции с логическими массивами NumPy\n",
    "Раз массивы логических значений так удобны, стоит узнать как осуществлять с ними массовые, *векторные логические операции*.\n",
    "Создадим два логических массива для экспериментов:"
   ]
  },
  {
   "cell_type": "code",
   "execution_count": 38,
   "id": "5kDd4njl-7BT",
   "metadata": {
    "id": "5kDd4njl-7BT"
   },
   "outputs": [],
   "source": [
    "import numpy as np\n",
    "A = np.array([False, False, True, True])\n",
    "B = np.array([False, True, False, True])"
   ]
  },
  {
   "cell_type": "markdown",
   "id": "mK36BI7u-7BT",
   "metadata": {
    "id": "mK36BI7u-7BT"
   },
   "source": [
    "Однако логические операции `and`, `or` и `not` с массивами NumPy не работают!"
   ]
  },
  {
   "cell_type": "code",
   "execution_count": 39,
   "id": "XDlys0e--7BU",
   "metadata": {
    "colab": {
     "base_uri": "https://localhost:8080/",
     "height": 167
    },
    "id": "XDlys0e--7BU",
    "outputId": "a3a05159-0488-4613-8773-38033509d927"
   },
   "outputs": [
    {
     "ename": "ValueError",
     "evalue": "The truth value of an array with more than one element is ambiguous. Use a.any() or a.all()",
     "output_type": "error",
     "traceback": [
      "\u001b[1;31m---------------------------------------------------------------------------\u001b[0m",
      "\u001b[1;31mValueError\u001b[0m                                Traceback (most recent call last)",
      "\u001b[1;32m~\\AppData\\Local\\Temp\\ipykernel_6392\\491973167.py\u001b[0m in \u001b[0;36m<module>\u001b[1;34m\u001b[0m\n\u001b[1;32m----> 1\u001b[1;33m \u001b[0mA\u001b[0m \u001b[1;32mand\u001b[0m \u001b[0mB\u001b[0m\u001b[1;33m\u001b[0m\u001b[1;33m\u001b[0m\u001b[0m\n\u001b[0m",
      "\u001b[1;31mValueError\u001b[0m: The truth value of an array with more than one element is ambiguous. Use a.any() or a.all()"
     ]
    }
   ],
   "source": [
    "A and B"
   ]
  },
  {
   "cell_type": "markdown",
   "id": "QF6ua2bl-7BU",
   "metadata": {
    "id": "QF6ua2bl-7BU"
   },
   "source": [
    "Зато работают операции `&`, `|`, `~`:"
   ]
  },
  {
   "cell_type": "code",
   "execution_count": 40,
   "id": "xR8fU4ac-7BU",
   "metadata": {
    "id": "xR8fU4ac-7BU",
    "outputId": "9dd6dc19-e5f3-435f-da01-374e53dd00cc"
   },
   "outputs": [
    {
     "name": "stdout",
     "output_type": "stream",
     "text": [
      "[False False  True  True]\n",
      "[False  True False  True]\n",
      "[False False False  True]\n"
     ]
    }
   ],
   "source": [
    "print(A)\n",
    "print(B)\n",
    "print(A & B)"
   ]
  },
  {
   "cell_type": "code",
   "execution_count": 41,
   "id": "mTYRo2fw-7BU",
   "metadata": {
    "id": "mTYRo2fw-7BU",
    "outputId": "1bde9ee5-37c0-40ac-e857-c98f804d060a"
   },
   "outputs": [
    {
     "name": "stdout",
     "output_type": "stream",
     "text": [
      "[False False  True  True]\n",
      "[False  True False  True]\n",
      "[False  True  True  True]\n"
     ]
    }
   ],
   "source": [
    "print(A)\n",
    "print(B)\n",
    "print(A | B)"
   ]
  },
  {
   "cell_type": "code",
   "execution_count": 42,
   "id": "YxyZojwZ-7BV",
   "metadata": {
    "id": "YxyZojwZ-7BV",
    "outputId": "2d6c04be-0bfb-4b20-94cb-3f4e00eb80cc"
   },
   "outputs": [
    {
     "name": "stdout",
     "output_type": "stream",
     "text": [
      "[False False  True  True]\n",
      "[ True  True False False]\n"
     ]
    }
   ],
   "source": [
    "print(A)\n",
    "print(~A)"
   ]
  },
  {
   "cell_type": "markdown",
   "id": "4Kdv5UIa-7BV",
   "metadata": {
    "id": "4Kdv5UIa-7BV"
   },
   "source": [
    "###  Редукция массивов NumPy методами any и all\n",
    "Для редукции логического массива лучше пользоваться не стандартными `all` и `any`, а **аналогичными методами** массива:"
   ]
  },
  {
   "cell_type": "code",
   "execution_count": 43,
   "id": "GlrYWyvk-7BV",
   "metadata": {
    "id": "GlrYWyvk-7BV"
   },
   "outputs": [],
   "source": [
    "import numpy as np\n",
    "logical_array = np.array([[ True,  True,  True,  True,  True],\n",
    "                          [ True, False, False, False,  True],\n",
    "                          [False,  True, False, False,  True],\n",
    "                          [False, False, False, False,  True]])"
   ]
  },
  {
   "cell_type": "code",
   "execution_count": 44,
   "id": "dtUnPPp--7BV",
   "metadata": {
    "colab": {
     "base_uri": "https://localhost:8080/",
     "height": 167
    },
    "id": "dtUnPPp--7BV",
    "outputId": "9a3e70ee-347b-47cb-b640-ab48af9f5109"
   },
   "outputs": [
    {
     "ename": "ValueError",
     "evalue": "The truth value of an array with more than one element is ambiguous. Use a.any() or a.all()",
     "output_type": "error",
     "traceback": [
      "\u001b[1;31m---------------------------------------------------------------------------\u001b[0m",
      "\u001b[1;31mValueError\u001b[0m                                Traceback (most recent call last)",
      "\u001b[1;32m~\\AppData\\Local\\Temp\\ipykernel_6392\\1157136994.py\u001b[0m in \u001b[0;36m<module>\u001b[1;34m\u001b[0m\n\u001b[1;32m----> 1\u001b[1;33m \u001b[0many\u001b[0m\u001b[1;33m(\u001b[0m\u001b[0mlogical_array\u001b[0m\u001b[1;33m)\u001b[0m\u001b[1;33m\u001b[0m\u001b[1;33m\u001b[0m\u001b[0m\n\u001b[0m",
      "\u001b[1;31mValueError\u001b[0m: The truth value of an array with more than one element is ambiguous. Use a.any() or a.all()"
     ]
    }
   ],
   "source": [
    "any(logical_array)"
   ]
  },
  {
   "cell_type": "code",
   "execution_count": 45,
   "id": "pePxY_PC-7BV",
   "metadata": {
    "colab": {
     "base_uri": "https://localhost:8080/"
    },
    "id": "pePxY_PC-7BV",
    "outputId": "21f08f3b-4e3c-4c80-b858-cc648f97e3d7"
   },
   "outputs": [
    {
     "data": {
      "text/plain": [
       "True"
      ]
     },
     "execution_count": 45,
     "metadata": {},
     "output_type": "execute_result"
    }
   ],
   "source": [
    "logical_array.any()"
   ]
  },
  {
   "cell_type": "markdown",
   "id": "fXRE7ghd-7BV",
   "metadata": {
    "id": "fXRE7ghd-7BV"
   },
   "source": [
    "При этом в NumPy можно провести редукцию логического массива по конкретной оси!\n",
    "\n",
    "Для этого в параметре метода укажем индекс оси:"
   ]
  },
  {
   "cell_type": "code",
   "execution_count": 46,
   "id": "ukTJwAhd-7BW",
   "metadata": {
    "colab": {
     "base_uri": "https://localhost:8080/"
    },
    "id": "ukTJwAhd-7BW",
    "outputId": "bff9c8c0-92ea-441d-f56d-f0054b3b8fc8"
   },
   "outputs": [
    {
     "data": {
      "text/plain": [
       "array([ True,  True,  True,  True,  True])"
      ]
     },
     "execution_count": 46,
     "metadata": {},
     "output_type": "execute_result"
    }
   ],
   "source": [
    "logical_array.any(0)"
   ]
  },
  {
   "cell_type": "code",
   "execution_count": 47,
   "id": "yaiYICum-7BW",
   "metadata": {
    "id": "yaiYICum-7BW",
    "outputId": "0eabbdbb-0a3a-41be-e776-e20a4a30e95b"
   },
   "outputs": [
    {
     "data": {
      "text/plain": [
       "array([ True,  True,  True,  True])"
      ]
     },
     "execution_count": 47,
     "metadata": {},
     "output_type": "execute_result"
    }
   ],
   "source": [
    "logical_array.any(1)"
   ]
  },
  {
   "cell_type": "code",
   "execution_count": 48,
   "id": "eKjeZQAC-7BW",
   "metadata": {
    "id": "eKjeZQAC-7BW",
    "outputId": "c8ef766f-b521-44b9-f611-cb18be4b6700"
   },
   "outputs": [
    {
     "data": {
      "text/plain": [
       "array([False, False, False, False,  True])"
      ]
     },
     "execution_count": 48,
     "metadata": {},
     "output_type": "execute_result"
    }
   ],
   "source": [
    "logical_array.all(0)"
   ]
  },
  {
   "cell_type": "code",
   "execution_count": 49,
   "id": "bL3hwqtw-7BW",
   "metadata": {
    "id": "bL3hwqtw-7BW",
    "outputId": "9698c008-f37f-4a5a-da6e-addee4383e5f"
   },
   "outputs": [
    {
     "data": {
      "text/plain": [
       "array([ True, False, False, False])"
      ]
     },
     "execution_count": 49,
     "metadata": {},
     "output_type": "execute_result"
    }
   ],
   "source": [
    "logical_array.all(1)"
   ]
  },
  {
   "cell_type": "markdown",
   "id": "IQrzHbfk-7BW",
   "metadata": {
    "id": "IQrzHbfk-7BW"
   },
   "source": [
    "## Основы работы с данными в Pandas\n",
    "Pandas — популярная библиотека для работы с табличными данными различных типов.\n",
    "С её помощью загрузка файла в формате CSV или XLS становится примитивной:"
   ]
  },
  {
   "cell_type": "code",
   "execution_count": 52,
   "id": "fQXh-6kR-7BX",
   "metadata": {
    "id": "fQXh-6kR-7BX"
   },
   "outputs": [],
   "source": [
    "import pandas as pd\n",
    "data = pd.read_csv(\"demodata.csv\")"
   ]
  },
  {
   "cell_type": "markdown",
   "id": "voRGLBN8-7BX",
   "metadata": {
    "id": "voRGLBN8-7BX"
   },
   "source": [
    "Что за тип у объекта, который хранит считанные из файла данные?"
   ]
  },
  {
   "cell_type": "code",
   "execution_count": 53,
   "id": "ZI24bgAu-7BX",
   "metadata": {
    "colab": {
     "base_uri": "https://localhost:8080/"
    },
    "id": "ZI24bgAu-7BX",
    "outputId": "0ce6070f-ad9d-4563-ab95-b29f1f6015b6"
   },
   "outputs": [
    {
     "data": {
      "text/plain": [
       "pandas.core.frame.DataFrame"
      ]
     },
     "execution_count": 53,
     "metadata": {},
     "output_type": "execute_result"
    }
   ],
   "source": [
    "type(data)"
   ]
  },
  {
   "cell_type": "markdown",
   "id": "ptySgA2R-7BX",
   "metadata": {
    "id": "ptySgA2R-7BX"
   },
   "source": [
    "`DataFrame` — основной тип библиотеки Pandas, и почти все операции над листом с данными будут осуществляться через его методы."
   ]
  },
  {
   "cell_type": "markdown",
   "id": "MekpUoWe-7BX",
   "metadata": {
    "id": "MekpUoWe-7BX"
   },
   "source": [
    "Размеры листа хранятся в *атрибуте* `shape`:"
   ]
  },
  {
   "cell_type": "code",
   "execution_count": 54,
   "id": "cIGtLhan-7BX",
   "metadata": {
    "colab": {
     "base_uri": "https://localhost:8080/"
    },
    "id": "cIGtLhan-7BX",
    "outputId": "e6d1cb67-bee0-4bd9-9a2a-e37dd29bab91"
   },
   "outputs": [
    {
     "data": {
      "text/plain": [
       "(10, 6)"
      ]
     },
     "execution_count": 54,
     "metadata": {},
     "output_type": "execute_result"
    }
   ],
   "source": [
    "data.shape"
   ]
  },
  {
   "cell_type": "markdown",
   "id": "x48YL1EN-7BY",
   "metadata": {
    "id": "x48YL1EN-7BY"
   },
   "source": [
    "### Знакомство с данными\n",
    "После того, как вы открыли файл, нужно познакомиться с данными. Для этого есть несколько путей.\n",
    "\n",
    "Посмотреть на несколько первых строк:"
   ]
  },
  {
   "cell_type": "code",
   "execution_count": 55,
   "id": "3IXQSDSsKpvi",
   "metadata": {
    "colab": {
     "base_uri": "https://localhost:8080/",
     "height": 363
    },
    "id": "3IXQSDSsKpvi",
    "outputId": "086be5b4-a124-498b-c3e2-4bd800229302"
   },
   "outputs": [
    {
     "data": {
      "text/html": [
       "<div>\n",
       "<style scoped>\n",
       "    .dataframe tbody tr th:only-of-type {\n",
       "        vertical-align: middle;\n",
       "    }\n",
       "\n",
       "    .dataframe tbody tr th {\n",
       "        vertical-align: top;\n",
       "    }\n",
       "\n",
       "    .dataframe thead th {\n",
       "        text-align: right;\n",
       "    }\n",
       "</style>\n",
       "<table border=\"1\" class=\"dataframe\">\n",
       "  <thead>\n",
       "    <tr style=\"text-align: right;\">\n",
       "      <th></th>\n",
       "      <th>clientid</th>\n",
       "      <th>date</th>\n",
       "      <th>weekdays</th>\n",
       "      <th>gains</th>\n",
       "      <th>prices</th>\n",
       "      <th>up</th>\n",
       "    </tr>\n",
       "  </thead>\n",
       "  <tbody>\n",
       "    <tr>\n",
       "      <th>0</th>\n",
       "      <td>0</td>\n",
       "      <td>2008-04-30</td>\n",
       "      <td>Wed</td>\n",
       "      <td>-0.524582</td>\n",
       "      <td>7.791404e+06</td>\n",
       "      <td>False</td>\n",
       "    </tr>\n",
       "    <tr>\n",
       "      <th>1</th>\n",
       "      <td>1</td>\n",
       "      <td>2008-05-01</td>\n",
       "      <td>Thu</td>\n",
       "      <td>0.076192</td>\n",
       "      <td>3.167181e+06</td>\n",
       "      <td>True</td>\n",
       "    </tr>\n",
       "    <tr>\n",
       "      <th>2</th>\n",
       "      <td>2</td>\n",
       "      <td>2008-05-02</td>\n",
       "      <td>Fri</td>\n",
       "      <td>-0.868510</td>\n",
       "      <td>9.589767e+06</td>\n",
       "      <td>False</td>\n",
       "    </tr>\n",
       "    <tr>\n",
       "      <th>3</th>\n",
       "      <td>3</td>\n",
       "      <td>2008-05-03</td>\n",
       "      <td>Sat</td>\n",
       "      <td>-0.427011</td>\n",
       "      <td>8.949415e+06</td>\n",
       "      <td>False</td>\n",
       "    </tr>\n",
       "    <tr>\n",
       "      <th>4</th>\n",
       "      <td>4</td>\n",
       "      <td>2008-05-04</td>\n",
       "      <td>Sun</td>\n",
       "      <td>0.253255</td>\n",
       "      <td>9.371634e+05</td>\n",
       "      <td>True</td>\n",
       "    </tr>\n",
       "    <tr>\n",
       "      <th>5</th>\n",
       "      <td>5</td>\n",
       "      <td>2008-05-05</td>\n",
       "      <td>Mon</td>\n",
       "      <td>-0.681516</td>\n",
       "      <td>9.495799e+05</td>\n",
       "      <td>False</td>\n",
       "    </tr>\n",
       "    <tr>\n",
       "      <th>6</th>\n",
       "      <td>6</td>\n",
       "      <td>2008-05-06</td>\n",
       "      <td>Tue</td>\n",
       "      <td>0.007191</td>\n",
       "      <td>7.268427e+06</td>\n",
       "      <td>True</td>\n",
       "    </tr>\n",
       "    <tr>\n",
       "      <th>7</th>\n",
       "      <td>7</td>\n",
       "      <td>2008-05-07</td>\n",
       "      <td>Wed</td>\n",
       "      <td>0.674497</td>\n",
       "      <td>7.517015e+06</td>\n",
       "      <td>True</td>\n",
       "    </tr>\n",
       "    <tr>\n",
       "      <th>8</th>\n",
       "      <td>8</td>\n",
       "      <td>2008-05-08</td>\n",
       "      <td>Thu</td>\n",
       "      <td>-1.184101</td>\n",
       "      <td>1.920960e+06</td>\n",
       "      <td>False</td>\n",
       "    </tr>\n",
       "    <tr>\n",
       "      <th>9</th>\n",
       "      <td>9</td>\n",
       "      <td>2008-05-09</td>\n",
       "      <td>Fri</td>\n",
       "      <td>-1.580369</td>\n",
       "      <td>8.456241e+06</td>\n",
       "      <td>False</td>\n",
       "    </tr>\n",
       "  </tbody>\n",
       "</table>\n",
       "</div>"
      ],
      "text/plain": [
       "   clientid        date weekdays     gains        prices     up\n",
       "0         0  2008-04-30      Wed -0.524582  7.791404e+06  False\n",
       "1         1  2008-05-01      Thu  0.076192  3.167181e+06   True\n",
       "2         2  2008-05-02      Fri -0.868510  9.589767e+06  False\n",
       "3         3  2008-05-03      Sat -0.427011  8.949415e+06  False\n",
       "4         4  2008-05-04      Sun  0.253255  9.371634e+05   True\n",
       "5         5  2008-05-05      Mon -0.681516  9.495799e+05  False\n",
       "6         6  2008-05-06      Tue  0.007191  7.268427e+06   True\n",
       "7         7  2008-05-07      Wed  0.674497  7.517015e+06   True\n",
       "8         8  2008-05-08      Thu -1.184101  1.920960e+06  False\n",
       "9         9  2008-05-09      Fri -1.580369  8.456241e+06  False"
      ]
     },
     "execution_count": 55,
     "metadata": {},
     "output_type": "execute_result"
    }
   ],
   "source": [
    "data"
   ]
  },
  {
   "cell_type": "code",
   "execution_count": 56,
   "id": "xs-0n1OK-7BY",
   "metadata": {
    "id": "xs-0n1OK-7BY",
    "outputId": "ecfce77e-3544-4735-c49b-2ee519e341f7"
   },
   "outputs": [
    {
     "data": {
      "text/html": [
       "<div>\n",
       "<style scoped>\n",
       "    .dataframe tbody tr th:only-of-type {\n",
       "        vertical-align: middle;\n",
       "    }\n",
       "\n",
       "    .dataframe tbody tr th {\n",
       "        vertical-align: top;\n",
       "    }\n",
       "\n",
       "    .dataframe thead th {\n",
       "        text-align: right;\n",
       "    }\n",
       "</style>\n",
       "<table border=\"1\" class=\"dataframe\">\n",
       "  <thead>\n",
       "    <tr style=\"text-align: right;\">\n",
       "      <th></th>\n",
       "      <th>clientid</th>\n",
       "      <th>date</th>\n",
       "      <th>weekdays</th>\n",
       "      <th>gains</th>\n",
       "      <th>prices</th>\n",
       "      <th>up</th>\n",
       "    </tr>\n",
       "  </thead>\n",
       "  <tbody>\n",
       "    <tr>\n",
       "      <th>0</th>\n",
       "      <td>0</td>\n",
       "      <td>2008-04-30</td>\n",
       "      <td>Wed</td>\n",
       "      <td>-0.524582</td>\n",
       "      <td>7.791404e+06</td>\n",
       "      <td>False</td>\n",
       "    </tr>\n",
       "    <tr>\n",
       "      <th>1</th>\n",
       "      <td>1</td>\n",
       "      <td>2008-05-01</td>\n",
       "      <td>Thu</td>\n",
       "      <td>0.076192</td>\n",
       "      <td>3.167181e+06</td>\n",
       "      <td>True</td>\n",
       "    </tr>\n",
       "    <tr>\n",
       "      <th>2</th>\n",
       "      <td>2</td>\n",
       "      <td>2008-05-02</td>\n",
       "      <td>Fri</td>\n",
       "      <td>-0.868510</td>\n",
       "      <td>9.589767e+06</td>\n",
       "      <td>False</td>\n",
       "    </tr>\n",
       "    <tr>\n",
       "      <th>3</th>\n",
       "      <td>3</td>\n",
       "      <td>2008-05-03</td>\n",
       "      <td>Sat</td>\n",
       "      <td>-0.427011</td>\n",
       "      <td>8.949415e+06</td>\n",
       "      <td>False</td>\n",
       "    </tr>\n",
       "    <tr>\n",
       "      <th>4</th>\n",
       "      <td>4</td>\n",
       "      <td>2008-05-04</td>\n",
       "      <td>Sun</td>\n",
       "      <td>0.253255</td>\n",
       "      <td>9.371634e+05</td>\n",
       "      <td>True</td>\n",
       "    </tr>\n",
       "  </tbody>\n",
       "</table>\n",
       "</div>"
      ],
      "text/plain": [
       "   clientid        date weekdays     gains        prices     up\n",
       "0         0  2008-04-30      Wed -0.524582  7.791404e+06  False\n",
       "1         1  2008-05-01      Thu  0.076192  3.167181e+06   True\n",
       "2         2  2008-05-02      Fri -0.868510  9.589767e+06  False\n",
       "3         3  2008-05-03      Sat -0.427011  8.949415e+06  False\n",
       "4         4  2008-05-04      Sun  0.253255  9.371634e+05   True"
      ]
     },
     "execution_count": 56,
     "metadata": {},
     "output_type": "execute_result"
    }
   ],
   "source": [
    "data.head()"
   ]
  },
  {
   "cell_type": "markdown",
   "id": "ljFoOO93-7BY",
   "metadata": {
    "id": "ljFoOO93-7BY"
   },
   "source": [
    "Иногда полезно посмотреть не только на \"голову\", но и на \"хвостик\" листа с данными:"
   ]
  },
  {
   "cell_type": "code",
   "execution_count": 57,
   "id": "pQnkRjt--7BY",
   "metadata": {
    "colab": {
     "base_uri": "https://localhost:8080/",
     "height": 143
    },
    "id": "pQnkRjt--7BY",
    "outputId": "d469c7fb-c723-4fa5-8e23-5732158b49af"
   },
   "outputs": [
    {
     "data": {
      "text/html": [
       "<div>\n",
       "<style scoped>\n",
       "    .dataframe tbody tr th:only-of-type {\n",
       "        vertical-align: middle;\n",
       "    }\n",
       "\n",
       "    .dataframe tbody tr th {\n",
       "        vertical-align: top;\n",
       "    }\n",
       "\n",
       "    .dataframe thead th {\n",
       "        text-align: right;\n",
       "    }\n",
       "</style>\n",
       "<table border=\"1\" class=\"dataframe\">\n",
       "  <thead>\n",
       "    <tr style=\"text-align: right;\">\n",
       "      <th></th>\n",
       "      <th>clientid</th>\n",
       "      <th>date</th>\n",
       "      <th>weekdays</th>\n",
       "      <th>gains</th>\n",
       "      <th>prices</th>\n",
       "      <th>up</th>\n",
       "    </tr>\n",
       "  </thead>\n",
       "  <tbody>\n",
       "    <tr>\n",
       "      <th>7</th>\n",
       "      <td>7</td>\n",
       "      <td>2008-05-07</td>\n",
       "      <td>Wed</td>\n",
       "      <td>0.674497</td>\n",
       "      <td>7.517015e+06</td>\n",
       "      <td>True</td>\n",
       "    </tr>\n",
       "    <tr>\n",
       "      <th>8</th>\n",
       "      <td>8</td>\n",
       "      <td>2008-05-08</td>\n",
       "      <td>Thu</td>\n",
       "      <td>-1.184101</td>\n",
       "      <td>1.920960e+06</td>\n",
       "      <td>False</td>\n",
       "    </tr>\n",
       "    <tr>\n",
       "      <th>9</th>\n",
       "      <td>9</td>\n",
       "      <td>2008-05-09</td>\n",
       "      <td>Fri</td>\n",
       "      <td>-1.580369</td>\n",
       "      <td>8.456241e+06</td>\n",
       "      <td>False</td>\n",
       "    </tr>\n",
       "  </tbody>\n",
       "</table>\n",
       "</div>"
      ],
      "text/plain": [
       "   clientid        date weekdays     gains        prices     up\n",
       "7         7  2008-05-07      Wed  0.674497  7.517015e+06   True\n",
       "8         8  2008-05-08      Thu -1.184101  1.920960e+06  False\n",
       "9         9  2008-05-09      Fri -1.580369  8.456241e+06  False"
      ]
     },
     "execution_count": 57,
     "metadata": {},
     "output_type": "execute_result"
    }
   ],
   "source": [
    "data.tail(3)"
   ]
  },
  {
   "cell_type": "markdown",
   "id": "DUGEyHHQ-7BY",
   "metadata": {
    "id": "DUGEyHHQ-7BY"
   },
   "source": [
    "Узнать подробную информацию о названиях и *типах данных* в столбцах:"
   ]
  },
  {
   "cell_type": "code",
   "execution_count": 58,
   "id": "8h07a0_i-7BZ",
   "metadata": {
    "colab": {
     "base_uri": "https://localhost:8080/"
    },
    "id": "8h07a0_i-7BZ",
    "outputId": "5a437efa-6d4d-4890-8b3a-a42e4843ff80"
   },
   "outputs": [
    {
     "name": "stdout",
     "output_type": "stream",
     "text": [
      "<class 'pandas.core.frame.DataFrame'>\n",
      "RangeIndex: 10 entries, 0 to 9\n",
      "Data columns (total 6 columns):\n",
      " #   Column    Non-Null Count  Dtype  \n",
      "---  ------    --------------  -----  \n",
      " 0   clientid  10 non-null     int64  \n",
      " 1   date      10 non-null     object \n",
      " 2   weekdays  10 non-null     object \n",
      " 3   gains     10 non-null     float64\n",
      " 4   prices    10 non-null     float64\n",
      " 5   up        10 non-null     bool   \n",
      "dtypes: bool(1), float64(2), int64(1), object(2)\n",
      "memory usage: 538.0+ bytes\n"
     ]
    }
   ],
   "source": [
    "data.info()"
   ]
  },
  {
   "cell_type": "markdown",
   "id": "HIDjb559-7BZ",
   "metadata": {
    "id": "HIDjb559-7BZ"
   },
   "source": [
    "Основные статистические характеристики, описывающие распределение величин в числовых столбцах:"
   ]
  },
  {
   "cell_type": "code",
   "execution_count": 59,
   "id": "0x2873z4-7BZ",
   "metadata": {
    "id": "0x2873z4-7BZ",
    "outputId": "f897357b-d6d8-4219-8e15-9bcd39f35303"
   },
   "outputs": [
    {
     "data": {
      "text/html": [
       "<div>\n",
       "<style scoped>\n",
       "    .dataframe tbody tr th:only-of-type {\n",
       "        vertical-align: middle;\n",
       "    }\n",
       "\n",
       "    .dataframe tbody tr th {\n",
       "        vertical-align: top;\n",
       "    }\n",
       "\n",
       "    .dataframe thead th {\n",
       "        text-align: right;\n",
       "    }\n",
       "</style>\n",
       "<table border=\"1\" class=\"dataframe\">\n",
       "  <thead>\n",
       "    <tr style=\"text-align: right;\">\n",
       "      <th></th>\n",
       "      <th>clientid</th>\n",
       "      <th>gains</th>\n",
       "      <th>prices</th>\n",
       "    </tr>\n",
       "  </thead>\n",
       "  <tbody>\n",
       "    <tr>\n",
       "      <th>count</th>\n",
       "      <td>10.00000</td>\n",
       "      <td>10.000000</td>\n",
       "      <td>1.000000e+01</td>\n",
       "    </tr>\n",
       "    <tr>\n",
       "      <th>mean</th>\n",
       "      <td>4.50000</td>\n",
       "      <td>-0.425495</td>\n",
       "      <td>5.654715e+06</td>\n",
       "    </tr>\n",
       "    <tr>\n",
       "      <th>std</th>\n",
       "      <td>3.02765</td>\n",
       "      <td>0.690446</td>\n",
       "      <td>3.485657e+06</td>\n",
       "    </tr>\n",
       "    <tr>\n",
       "      <th>min</th>\n",
       "      <td>0.00000</td>\n",
       "      <td>-1.580369</td>\n",
       "      <td>9.371634e+05</td>\n",
       "    </tr>\n",
       "    <tr>\n",
       "      <th>25%</th>\n",
       "      <td>2.25000</td>\n",
       "      <td>-0.821761</td>\n",
       "      <td>2.232515e+06</td>\n",
       "    </tr>\n",
       "    <tr>\n",
       "      <th>50%</th>\n",
       "      <td>4.50000</td>\n",
       "      <td>-0.475796</td>\n",
       "      <td>7.392721e+06</td>\n",
       "    </tr>\n",
       "    <tr>\n",
       "      <th>75%</th>\n",
       "      <td>6.75000</td>\n",
       "      <td>0.058941</td>\n",
       "      <td>8.290031e+06</td>\n",
       "    </tr>\n",
       "    <tr>\n",
       "      <th>max</th>\n",
       "      <td>9.00000</td>\n",
       "      <td>0.674497</td>\n",
       "      <td>9.589767e+06</td>\n",
       "    </tr>\n",
       "  </tbody>\n",
       "</table>\n",
       "</div>"
      ],
      "text/plain": [
       "       clientid      gains        prices\n",
       "count  10.00000  10.000000  1.000000e+01\n",
       "mean    4.50000  -0.425495  5.654715e+06\n",
       "std     3.02765   0.690446  3.485657e+06\n",
       "min     0.00000  -1.580369  9.371634e+05\n",
       "25%     2.25000  -0.821761  2.232515e+06\n",
       "50%     4.50000  -0.475796  7.392721e+06\n",
       "75%     6.75000   0.058941  8.290031e+06\n",
       "max     9.00000   0.674497  9.589767e+06"
      ]
     },
     "execution_count": 59,
     "metadata": {},
     "output_type": "execute_result"
    }
   ],
   "source": [
    "data.describe()"
   ]
  },
  {
   "cell_type": "markdown",
   "id": "C85ktMjZ-7BZ",
   "metadata": {
    "id": "C85ktMjZ-7BZ"
   },
   "source": [
    "### Серии данных в конкретном столбце"
   ]
  },
  {
   "cell_type": "markdown",
   "id": "9Pv-btTG-7BZ",
   "metadata": {
    "id": "9Pv-btTG-7BZ"
   },
   "source": [
    "Для дальнейшей работы с данными нам понадобится список столбцов.\n",
    "Обратите внимание, что это *не метод*, а просто **атрибут** листа с данными, а значит `columns` не нужно вызывать с круглыми скобками:"
   ]
  },
  {
   "cell_type": "code",
   "execution_count": 60,
   "id": "ccZrNSQ2-7BZ",
   "metadata": {
    "id": "ccZrNSQ2-7BZ",
    "outputId": "4af53238-e40b-4ff8-a377-8d44917dfcb6"
   },
   "outputs": [
    {
     "data": {
      "text/plain": [
       "Index(['clientid', 'date', 'weekdays', 'gains', 'prices', 'up'], dtype='object')"
      ]
     },
     "execution_count": 60,
     "metadata": {},
     "output_type": "execute_result"
    }
   ],
   "source": [
    "data.columns"
   ]
  },
  {
   "cell_type": "markdown",
   "id": "XDiNN12_-7Ba",
   "metadata": {
    "id": "XDiNN12_-7Ba"
   },
   "source": [
    "Для того, чтобы получить один столбец из листа, нужно написать имя столбца в кавычках и квадратных скобках:"
   ]
  },
  {
   "cell_type": "code",
   "execution_count": 61,
   "id": "Yjzz4rmz-7Ba",
   "metadata": {
    "colab": {
     "base_uri": "https://localhost:8080/"
    },
    "id": "Yjzz4rmz-7Ba",
    "outputId": "51dafe0b-f42b-4d67-94bb-a2fecaf17791"
   },
   "outputs": [
    {
     "data": {
      "text/plain": [
       "0    2008-04-30\n",
       "1    2008-05-01\n",
       "2    2008-05-02\n",
       "3    2008-05-03\n",
       "4    2008-05-04\n",
       "5    2008-05-05\n",
       "6    2008-05-06\n",
       "7    2008-05-07\n",
       "8    2008-05-08\n",
       "9    2008-05-09\n",
       "Name: date, dtype: object"
      ]
     },
     "execution_count": 61,
     "metadata": {},
     "output_type": "execute_result"
    }
   ],
   "source": [
    "data[\"date\"]"
   ]
  },
  {
   "cell_type": "markdown",
   "id": "8EsacICA-7Ba",
   "metadata": {
    "id": "8EsacICA-7Ba"
   },
   "source": [
    "Тип данных у одного столбца с данными уже не `DataFrame`, а `Series`. "
   ]
  },
  {
   "cell_type": "code",
   "execution_count": 62,
   "id": "BDUEN1Us-7Ba",
   "metadata": {
    "id": "BDUEN1Us-7Ba",
    "outputId": "549157e3-1d9e-4551-e4f8-0056301d09ba"
   },
   "outputs": [
    {
     "data": {
      "text/plain": [
       "pandas.core.series.Series"
      ]
     },
     "execution_count": 62,
     "metadata": {},
     "output_type": "execute_result"
    }
   ],
   "source": [
    "type(data.date)"
   ]
  },
  {
   "cell_type": "markdown",
   "id": "RRu3j58U-7Ba",
   "metadata": {
    "id": "RRu3j58U-7Ba"
   },
   "source": [
    "Серию данных из столбца можно также получить, обратившись к нему по имени через точку после имени листа с данными:"
   ]
  },
  {
   "cell_type": "code",
   "execution_count": 63,
   "id": "fxP6cdrT-7Ba",
   "metadata": {
    "colab": {
     "base_uri": "https://localhost:8080/"
    },
    "id": "fxP6cdrT-7Ba",
    "outputId": "3b39849d-5d9a-4f4b-cadf-d541124c686a",
    "scrolled": true
   },
   "outputs": [
    {
     "data": {
      "text/plain": [
       "0    2008-04-30\n",
       "1    2008-05-01\n",
       "2    2008-05-02\n",
       "3    2008-05-03\n",
       "4    2008-05-04\n",
       "5    2008-05-05\n",
       "6    2008-05-06\n",
       "7    2008-05-07\n",
       "8    2008-05-08\n",
       "9    2008-05-09\n",
       "Name: date, dtype: object"
      ]
     },
     "execution_count": 63,
     "metadata": {},
     "output_type": "execute_result"
    }
   ],
   "source": [
    "data.date"
   ]
  },
  {
   "cell_type": "markdown",
   "id": "H7Nmv0hL-7Bb",
   "metadata": {
    "id": "H7Nmv0hL-7Bb"
   },
   "source": [
    "### Фильтрация Pandas DataFrame по логическому условию"
   ]
  },
  {
   "cell_type": "code",
   "execution_count": 64,
   "id": "ezybSD9w-7Bb",
   "metadata": {
    "colab": {
     "base_uri": "https://localhost:8080/",
     "height": 175
    },
    "id": "ezybSD9w-7Bb",
    "outputId": "62d57e32-7ced-46b7-9715-4ceba10dc807"
   },
   "outputs": [
    {
     "data": {
      "text/html": [
       "<div>\n",
       "<style scoped>\n",
       "    .dataframe tbody tr th:only-of-type {\n",
       "        vertical-align: middle;\n",
       "    }\n",
       "\n",
       "    .dataframe tbody tr th {\n",
       "        vertical-align: top;\n",
       "    }\n",
       "\n",
       "    .dataframe thead th {\n",
       "        text-align: right;\n",
       "    }\n",
       "</style>\n",
       "<table border=\"1\" class=\"dataframe\">\n",
       "  <thead>\n",
       "    <tr style=\"text-align: right;\">\n",
       "      <th></th>\n",
       "      <th>clientid</th>\n",
       "      <th>date</th>\n",
       "      <th>weekdays</th>\n",
       "      <th>gains</th>\n",
       "      <th>prices</th>\n",
       "      <th>up</th>\n",
       "    </tr>\n",
       "  </thead>\n",
       "  <tbody>\n",
       "    <tr>\n",
       "      <th>1</th>\n",
       "      <td>1</td>\n",
       "      <td>2008-05-01</td>\n",
       "      <td>Thu</td>\n",
       "      <td>0.076192</td>\n",
       "      <td>3.167181e+06</td>\n",
       "      <td>True</td>\n",
       "    </tr>\n",
       "    <tr>\n",
       "      <th>4</th>\n",
       "      <td>4</td>\n",
       "      <td>2008-05-04</td>\n",
       "      <td>Sun</td>\n",
       "      <td>0.253255</td>\n",
       "      <td>9.371634e+05</td>\n",
       "      <td>True</td>\n",
       "    </tr>\n",
       "    <tr>\n",
       "      <th>6</th>\n",
       "      <td>6</td>\n",
       "      <td>2008-05-06</td>\n",
       "      <td>Tue</td>\n",
       "      <td>0.007191</td>\n",
       "      <td>7.268427e+06</td>\n",
       "      <td>True</td>\n",
       "    </tr>\n",
       "    <tr>\n",
       "      <th>7</th>\n",
       "      <td>7</td>\n",
       "      <td>2008-05-07</td>\n",
       "      <td>Wed</td>\n",
       "      <td>0.674497</td>\n",
       "      <td>7.517015e+06</td>\n",
       "      <td>True</td>\n",
       "    </tr>\n",
       "  </tbody>\n",
       "</table>\n",
       "</div>"
      ],
      "text/plain": [
       "   clientid        date weekdays     gains        prices    up\n",
       "1         1  2008-05-01      Thu  0.076192  3.167181e+06  True\n",
       "4         4  2008-05-04      Sun  0.253255  9.371634e+05  True\n",
       "6         6  2008-05-06      Tue  0.007191  7.268427e+06  True\n",
       "7         7  2008-05-07      Wed  0.674497  7.517015e+06  True"
      ]
     },
     "execution_count": 64,
     "metadata": {},
     "output_type": "execute_result"
    }
   ],
   "source": [
    "query = data[data.up]\n",
    "query"
   ]
  },
  {
   "cell_type": "code",
   "execution_count": 65,
   "id": "YkatF5KMNR2L",
   "metadata": {
    "colab": {
     "base_uri": "https://localhost:8080/"
    },
    "id": "YkatF5KMNR2L",
    "outputId": "7a9a26b9-3720-46dc-d7fa-bf551ca628b5"
   },
   "outputs": [
    {
     "data": {
      "text/plain": [
       "1    3.167181e+06\n",
       "4    9.371634e+05\n",
       "6    7.268427e+06\n",
       "7    7.517015e+06\n",
       "Name: prices, dtype: float64"
      ]
     },
     "execution_count": 65,
     "metadata": {},
     "output_type": "execute_result"
    }
   ],
   "source": [
    "query[\"prices\"]"
   ]
  },
  {
   "cell_type": "code",
   "execution_count": 66,
   "id": "rnl8xqHKNUu8",
   "metadata": {
    "colab": {
     "base_uri": "https://localhost:8080/"
    },
    "id": "rnl8xqHKNUu8",
    "outputId": "3631bab3-662a-4932-a501-d5cf388a04c6"
   },
   "outputs": [
    {
     "data": {
      "text/plain": [
       "4722446.46745914"
      ]
     },
     "execution_count": 66,
     "metadata": {},
     "output_type": "execute_result"
    }
   ],
   "source": [
    "query[\"prices\"].mean()"
   ]
  },
  {
   "cell_type": "code",
   "execution_count": 67,
   "id": "aD1h4U-jNbiY",
   "metadata": {
    "colab": {
     "base_uri": "https://localhost:8080/"
    },
    "id": "aD1h4U-jNbiY",
    "outputId": "9f8881ed-447c-4db8-8e01-9f14d2f732dd"
   },
   "outputs": [
    {
     "data": {
      "text/plain": [
       "3216563.773601599"
      ]
     },
     "execution_count": 67,
     "metadata": {},
     "output_type": "execute_result"
    }
   ],
   "source": [
    "query[\"prices\"].std()"
   ]
  },
  {
   "cell_type": "code",
   "execution_count": 68,
   "id": "rBNkp6yA-7Bb",
   "metadata": {
    "colab": {
     "base_uri": "https://localhost:8080/",
     "height": 112
    },
    "id": "rBNkp6yA-7Bb",
    "outputId": "45c9d969-f43f-4cde-d66f-1718dfcc0d12"
   },
   "outputs": [
    {
     "data": {
      "text/html": [
       "<div>\n",
       "<style scoped>\n",
       "    .dataframe tbody tr th:only-of-type {\n",
       "        vertical-align: middle;\n",
       "    }\n",
       "\n",
       "    .dataframe tbody tr th {\n",
       "        vertical-align: top;\n",
       "    }\n",
       "\n",
       "    .dataframe thead th {\n",
       "        text-align: right;\n",
       "    }\n",
       "</style>\n",
       "<table border=\"1\" class=\"dataframe\">\n",
       "  <thead>\n",
       "    <tr style=\"text-align: right;\">\n",
       "      <th></th>\n",
       "      <th>clientid</th>\n",
       "      <th>date</th>\n",
       "      <th>weekdays</th>\n",
       "      <th>gains</th>\n",
       "      <th>prices</th>\n",
       "      <th>up</th>\n",
       "    </tr>\n",
       "  </thead>\n",
       "  <tbody>\n",
       "    <tr>\n",
       "      <th>0</th>\n",
       "      <td>0</td>\n",
       "      <td>2008-04-30</td>\n",
       "      <td>Wed</td>\n",
       "      <td>-0.524582</td>\n",
       "      <td>7.791404e+06</td>\n",
       "      <td>False</td>\n",
       "    </tr>\n",
       "    <tr>\n",
       "      <th>7</th>\n",
       "      <td>7</td>\n",
       "      <td>2008-05-07</td>\n",
       "      <td>Wed</td>\n",
       "      <td>0.674497</td>\n",
       "      <td>7.517015e+06</td>\n",
       "      <td>True</td>\n",
       "    </tr>\n",
       "  </tbody>\n",
       "</table>\n",
       "</div>"
      ],
      "text/plain": [
       "   clientid        date weekdays     gains        prices     up\n",
       "0         0  2008-04-30      Wed -0.524582  7.791404e+06  False\n",
       "7         7  2008-05-07      Wed  0.674497  7.517015e+06   True"
      ]
     },
     "execution_count": 68,
     "metadata": {},
     "output_type": "execute_result"
    }
   ],
   "source": [
    "data[data.weekdays == 'Wed']"
   ]
  },
  {
   "cell_type": "markdown",
   "id": "M7AZkYhR-7Bb",
   "metadata": {
    "id": "M7AZkYhR-7Bb"
   },
   "source": [
    "Что делать, если мы хотим применить оба условия — потребовать их одновременной истинности?\n",
    "Как и к массивам NumPy, операции `and`, `or` и `not` к листам с данными неприменимы.\n",
    "\n",
    "Нужно пользоваться операторами `&`, `|`, `~`, которые приводят к массовым операциям.\n",
    "Единственное, что нужно учесть, что приоритет этих операций выше, чем у обычных логических, а значит *атомарные высказывания* нужно окружать скобками:"
   ]
  },
  {
   "cell_type": "code",
   "execution_count": 69,
   "id": "67dsCIrh-7Bb",
   "metadata": {
    "colab": {
     "base_uri": "https://localhost:8080/",
     "height": 81
    },
    "id": "67dsCIrh-7Bb",
    "outputId": "c30b4de6-4a29-49e7-db61-4b88dfe42954"
   },
   "outputs": [
    {
     "data": {
      "text/html": [
       "<div>\n",
       "<style scoped>\n",
       "    .dataframe tbody tr th:only-of-type {\n",
       "        vertical-align: middle;\n",
       "    }\n",
       "\n",
       "    .dataframe tbody tr th {\n",
       "        vertical-align: top;\n",
       "    }\n",
       "\n",
       "    .dataframe thead th {\n",
       "        text-align: right;\n",
       "    }\n",
       "</style>\n",
       "<table border=\"1\" class=\"dataframe\">\n",
       "  <thead>\n",
       "    <tr style=\"text-align: right;\">\n",
       "      <th></th>\n",
       "      <th>clientid</th>\n",
       "      <th>date</th>\n",
       "      <th>weekdays</th>\n",
       "      <th>gains</th>\n",
       "      <th>prices</th>\n",
       "      <th>up</th>\n",
       "    </tr>\n",
       "  </thead>\n",
       "  <tbody>\n",
       "    <tr>\n",
       "      <th>0</th>\n",
       "      <td>0</td>\n",
       "      <td>2008-04-30</td>\n",
       "      <td>Wed</td>\n",
       "      <td>-0.524582</td>\n",
       "      <td>7.791404e+06</td>\n",
       "      <td>False</td>\n",
       "    </tr>\n",
       "  </tbody>\n",
       "</table>\n",
       "</div>"
      ],
      "text/plain": [
       "   clientid        date weekdays     gains        prices     up\n",
       "0         0  2008-04-30      Wed -0.524582  7.791404e+06  False"
      ]
     },
     "execution_count": 69,
     "metadata": {},
     "output_type": "execute_result"
    }
   ],
   "source": [
    "query = data[(data.weekdays == 'Wed') & (~data.up)]  # Нужны скобки!\n",
    "query"
   ]
  },
  {
   "cell_type": "markdown",
   "id": "ZgYtR9iQ-7Bc",
   "metadata": {
    "id": "ZgYtR9iQ-7Bc"
   },
   "source": [
    "### Фильтрация при помощи метода `query`\n",
    "Выбор нужных строк листа при помощи массива логических значений, получаемых из этого же листа, неплох. Но если наименование листа длинное, то записывать его в строке несколько раз кажется затруднительным. Кроме того, необходимость заменять операции может дополнительно затруднить восприятие.\n",
    "\n",
    "Можно формулировать запрос отбора нужных строк намного проще — через метод `query`:"
   ]
  },
  {
   "cell_type": "code",
   "execution_count": 70,
   "id": "O3Fu7Rqe-7Bc",
   "metadata": {
    "colab": {
     "base_uri": "https://localhost:8080/",
     "height": 81
    },
    "id": "O3Fu7Rqe-7Bc",
    "outputId": "fb16cb15-9344-4689-c0e3-e974b7ba4ea2"
   },
   "outputs": [
    {
     "data": {
      "text/html": [
       "<div>\n",
       "<style scoped>\n",
       "    .dataframe tbody tr th:only-of-type {\n",
       "        vertical-align: middle;\n",
       "    }\n",
       "\n",
       "    .dataframe tbody tr th {\n",
       "        vertical-align: top;\n",
       "    }\n",
       "\n",
       "    .dataframe thead th {\n",
       "        text-align: right;\n",
       "    }\n",
       "</style>\n",
       "<table border=\"1\" class=\"dataframe\">\n",
       "  <thead>\n",
       "    <tr style=\"text-align: right;\">\n",
       "      <th></th>\n",
       "      <th>clientid</th>\n",
       "      <th>date</th>\n",
       "      <th>weekdays</th>\n",
       "      <th>gains</th>\n",
       "      <th>prices</th>\n",
       "      <th>up</th>\n",
       "    </tr>\n",
       "  </thead>\n",
       "  <tbody>\n",
       "    <tr>\n",
       "      <th>7</th>\n",
       "      <td>7</td>\n",
       "      <td>2008-05-07</td>\n",
       "      <td>Wed</td>\n",
       "      <td>0.674497</td>\n",
       "      <td>7.517015e+06</td>\n",
       "      <td>True</td>\n",
       "    </tr>\n",
       "  </tbody>\n",
       "</table>\n",
       "</div>"
      ],
      "text/plain": [
       "   clientid        date weekdays     gains        prices    up\n",
       "7         7  2008-05-07      Wed  0.674497  7.517015e+06  True"
      ]
     },
     "execution_count": 70,
     "metadata": {},
     "output_type": "execute_result"
    }
   ],
   "source": [
    "data.query('weekdays == \"Wed\" and up')"
   ]
  },
  {
   "cell_type": "markdown",
   "id": "_BFY-A4_-7Bc",
   "metadata": {
    "id": "_BFY-A4_-7Bc"
   },
   "source": [
    "При помощи `query` легко формулировать сложные условия отбора. Например, выделим только те строки, где день недели — это воскресенье или же цены ниже среднего и при этом доходы отрицательны:"
   ]
  },
  {
   "cell_type": "code",
   "execution_count": 71,
   "id": "eBk2rD74-7Bc",
   "metadata": {
    "colab": {
     "base_uri": "https://localhost:8080/"
    },
    "id": "eBk2rD74-7Bc",
    "outputId": "01571ef0-2bb5-48fb-a461-9a2ea0b63bab"
   },
   "outputs": [
    {
     "name": "stdout",
     "output_type": "stream",
     "text": [
      "Сумма доходов по данным сделкам: -1.61236186952339\n"
     ]
    }
   ],
   "source": [
    "result = data.query('weekdays == \"Sun\" or prices < prices.mean() and gains < 0')\n",
    "result\n",
    "print(\"Сумма доходов по данным сделкам:\", result['gains'].sum())"
   ]
  },
  {
   "cell_type": "markdown",
   "id": "nET3M0_t-7Bd",
   "metadata": {
    "id": "nET3M0_t-7Bd"
   },
   "source": [
    "### Гистограмма распределения"
   ]
  },
  {
   "cell_type": "markdown",
   "id": "8d0Z53Mc-7Bd",
   "metadata": {
    "id": "8d0Z53Mc-7Bd"
   },
   "source": [
    "Модуль Pandas под капотом неявно подключает Matplotlib, поэтому для построения гистограммы распределения не нужно его отдельно подключать, а просто воспользоваться методом `hist`:"
   ]
  },
  {
   "cell_type": "code",
   "execution_count": 72,
   "id": "33xmpi7N-7Bd",
   "metadata": {
    "id": "33xmpi7N-7Bd",
    "outputId": "4c8faec4-73f7-4698-e274-0214925947f9"
   },
   "outputs": [
    {
     "data": {
      "image/png": "[encoded data removed]",
      "text/plain": [
       "<Figure size 640x480 with 1 Axes>"
      ]
     },
     "metadata": {},
     "output_type": "display_data"
    }
   ],
   "source": [
    "data[\"prices\"].hist();"
   ]
  },
  {
   "cell_type": "markdown",
   "id": "Yr0hcBxl-7Be",
   "metadata": {
    "id": "Yr0hcBxl-7Be"
   },
   "source": [
    "### Статистические характеристики выборки данных\n",
    "Для того чтобы узнать конкретную статистическую характеристику, можно воспользоваться следующими методами:"
   ]
  },
  {
   "cell_type": "code",
   "execution_count": 73,
   "id": "aKTRfv4V-7Be",
   "metadata": {
    "id": "aKTRfv4V-7Be",
    "outputId": "287e08f0-8ba6-456d-cc17-219350e1737c"
   },
   "outputs": [
    {
     "data": {
      "text/plain": [
       "937163.4437525265"
      ]
     },
     "execution_count": 73,
     "metadata": {},
     "output_type": "execute_result"
    }
   ],
   "source": [
    "data[\"prices\"].min()"
   ]
  },
  {
   "cell_type": "code",
   "execution_count": 74,
   "id": "uCPRE0C7-7Be",
   "metadata": {
    "id": "uCPRE0C7-7Be",
    "outputId": "fc3bdc40-682d-414e-f479-beebb027249e"
   },
   "outputs": [
    {
     "data": {
      "text/plain": [
       "9589766.961382903"
      ]
     },
     "execution_count": 74,
     "metadata": {},
     "output_type": "execute_result"
    }
   ],
   "source": [
    "data[\"prices\"].max()"
   ]
  },
  {
   "cell_type": "code",
   "execution_count": 75,
   "id": "WMv4yLft-7Be",
   "metadata": {
    "id": "WMv4yLft-7Be",
    "outputId": "84eb5d7f-4303-468d-a522-12b54217e4f4"
   },
   "outputs": [
    {
     "name": "stdout",
     "output_type": "stream",
     "text": [
      "Среднее значение: 5654715.206961571\n"
     ]
    }
   ],
   "source": [
    "print(\"Среднее значение:\", data[\"prices\"].mean())"
   ]
  },
  {
   "cell_type": "code",
   "execution_count": 76,
   "id": "k-BLRPGF-7Be",
   "metadata": {
    "id": "k-BLRPGF-7Be",
    "outputId": "36d96cf3-b49b-4060-937e-1703e7badf86"
   },
   "outputs": [
    {
     "name": "stdout",
     "output_type": "stream",
     "text": [
      "Стандартное отклонение: 3485656.980782874\n"
     ]
    }
   ],
   "source": [
    "print(\"Стандартное отклонение:\", data[\"prices\"].std())"
   ]
  },
  {
   "cell_type": "code",
   "execution_count": 77,
   "id": "ndTCG93_-7Bf",
   "metadata": {
    "id": "ndTCG93_-7Bf",
    "outputId": "c9706f48-94ad-4780-c8c1-8296e5a14098"
   },
   "outputs": [
    {
     "name": "stdout",
     "output_type": "stream",
     "text": [
      "Медиана: 7392720.84472501\n"
     ]
    }
   ],
   "source": [
    "print(\"Медиана:\", data[\"prices\"].median())"
   ]
  },
  {
   "cell_type": "markdown",
   "id": "dWTrnuyp-7Bf",
   "metadata": {
    "id": "dWTrnuyp-7Bf"
   },
   "source": [
    "Кроме медианы можно указать любой квантиль распределения:"
   ]
  },
  {
   "cell_type": "code",
   "execution_count": 78,
   "id": "Cd8WB89X-7Bf",
   "metadata": {
    "id": "Cd8WB89X-7Bf",
    "outputId": "38260fb9-a5ae-4bf8-ca2b-2753aebb6406"
   },
   "outputs": [
    {
     "name": "stdout",
     "output_type": "stream",
     "text": [
      "Первый квартиль: 2232514.840920421\n",
      "Третий квартиль: 8290031.4672024455\n"
     ]
    }
   ],
   "source": [
    "print(\"Первый квартиль:\", data[\"prices\"].quantile(1/4))\n",
    "print(\"Третий квартиль:\", data[\"prices\"].quantile(3/4))"
   ]
  },
  {
   "cell_type": "markdown",
   "id": "rkvoIoCZ-7Bf",
   "metadata": {
    "id": "rkvoIoCZ-7Bf"
   },
   "source": [
    "При этом можно применить условие выбора строк по логическому массиву:"
   ]
  },
  {
   "cell_type": "code",
   "execution_count": 79,
   "id": "pUrO_zSk-7Bf",
   "metadata": {
    "id": "pUrO_zSk-7Bf",
    "outputId": "7a0d731c-13ff-4373-84d2-38072f52727c"
   },
   "outputs": [
    {
     "data": {
      "text/plain": [
       "4722446.46745914"
      ]
     },
     "execution_count": 79,
     "metadata": {},
     "output_type": "execute_result"
    }
   ],
   "source": [
    "data[data.up][\"prices\"].mean()"
   ]
  },
  {
   "cell_type": "markdown",
   "id": "epZrkUkt-7Bg",
   "metadata": {
    "id": "epZrkUkt-7Bg"
   },
   "source": [
    "А сам логический массив получить через наложение условий на исходный лист с данными:"
   ]
  },
  {
   "cell_type": "code",
   "execution_count": 80,
   "id": "95dIVwwS-7Bg",
   "metadata": {
    "id": "95dIVwwS-7Bg",
    "outputId": "822c5b63-a778-4829-dd25-489d1c8dfdf4"
   },
   "outputs": [
    {
     "data": {
      "text/plain": [
       "7654209.39604469"
      ]
     },
     "execution_count": 80,
     "metadata": {},
     "output_type": "execute_result"
    }
   ],
   "source": [
    "data[data.weekdays == 'Wed'][\"prices\"].mean()"
   ]
  },
  {
   "cell_type": "markdown",
   "id": "OsXiNmZz-7Bg",
   "metadata": {
    "id": "OsXiNmZz-7Bg"
   },
   "source": [
    "## Анализ данных абитуриентов Мехмата МГУ\n",
    "Интересно будет применить наши знания и проанализировать данные приёмной кампании мехмата МГУ по общему конкурсу в 2021 году. Естественно, при анализе данных живых людей возникает *вопрос об этике их использования*, и *вопрос о соблюдении законодательства о персональных данных* (Федеральный закон \"О персональных данных\" от 27.07.2006 N 152-ФЗ).\n",
    "\n",
    "Для того чтобы работать с такими данными без особого допуска, осуществляется их деперсонализация, **обезличивание**, то есть такое действие, после которого конкретное физическое лицо не может быть напрямую связано с его данными. Наши данные уже обезличены, поэтому смело будем с ними работать.\n",
    "\n",
    "**!!! Внимание !!! данные ячейки не запускать, файлов с данными нет!!!**\n",
    "\n",
    "Давайте посмотрим на сами данные:"
   ]
  },
  {
   "cell_type": "code",
   "execution_count": 83,
   "id": "R0Z6I5YY-7Bg",
   "metadata": {
    "id": "R0Z6I5YY-7Bg"
   },
   "outputs": [],
   "source": [
    "import numpy as np\n",
    "import pandas as pd"
   ]
  },
  {
   "cell_type": "code",
   "execution_count": 84,
   "id": "lllg6tSa-7Bg",
   "metadata": {
    "colab": {
     "base_uri": "https://localhost:8080/",
     "height": 392
    },
    "id": "lllg6tSa-7Bg",
    "outputId": "416542cc-83ac-40ab-ef23-c16a5310dcb0",
    "scrolled": false
   },
   "outputs": [
    {
     "data": {
      "text/html": [
       "<div>\n",
       "<style scoped>\n",
       "    .dataframe tbody tr th:only-of-type {\n",
       "        vertical-align: middle;\n",
       "    }\n",
       "\n",
       "    .dataframe tbody tr th {\n",
       "        vertical-align: top;\n",
       "    }\n",
       "\n",
       "    .dataframe thead th {\n",
       "        text-align: right;\n",
       "    }\n",
       "</style>\n",
       "<table border=\"1\" class=\"dataframe\">\n",
       "  <thead>\n",
       "    <tr style=\"text-align: right;\">\n",
       "      <th></th>\n",
       "      <th>№</th>\n",
       "      <th>Наличие согласия</th>\n",
       "      <th>Согласие в МГУ</th>\n",
       "      <th>Сумма баллов</th>\n",
       "      <th>Математика (ДВИ)</th>\n",
       "      <th>Математика (ЕГЭ)</th>\n",
       "      <th>Физика</th>\n",
       "      <th>Русский язык</th>\n",
       "      <th>Индивидуальные достижения - аттестат</th>\n",
       "      <th>Индивидуальные достижения - сочинение</th>\n",
       "      <th>Индивидуальные достижения - ГТО</th>\n",
       "      <th>Преимущественное право зачисления</th>\n",
       "      <th>Право на общежитие</th>\n",
       "      <th>Статус</th>\n",
       "    </tr>\n",
       "  </thead>\n",
       "  <tbody>\n",
       "    <tr>\n",
       "      <th>0</th>\n",
       "      <td>1</td>\n",
       "      <td>Да</td>\n",
       "      <td>Да</td>\n",
       "      <td>408</td>\n",
       "      <td>100</td>\n",
       "      <td>100</td>\n",
       "      <td>100</td>\n",
       "      <td>100</td>\n",
       "      <td>6</td>\n",
       "      <td>2</td>\n",
       "      <td>0</td>\n",
       "      <td>Нет</td>\n",
       "      <td>Нет</td>\n",
       "      <td>В конкурсе</td>\n",
       "    </tr>\n",
       "    <tr>\n",
       "      <th>1</th>\n",
       "      <td>2</td>\n",
       "      <td>Нет</td>\n",
       "      <td>Нет</td>\n",
       "      <td>408</td>\n",
       "      <td>100</td>\n",
       "      <td>100</td>\n",
       "      <td>100</td>\n",
       "      <td>100</td>\n",
       "      <td>6</td>\n",
       "      <td>2</td>\n",
       "      <td>0</td>\n",
       "      <td>Нет</td>\n",
       "      <td>Нет</td>\n",
       "      <td>В конкурсе</td>\n",
       "    </tr>\n",
       "    <tr>\n",
       "      <th>2</th>\n",
       "      <td>3</td>\n",
       "      <td>Нет</td>\n",
       "      <td>Нет</td>\n",
       "      <td>408</td>\n",
       "      <td>100</td>\n",
       "      <td>100</td>\n",
       "      <td>100</td>\n",
       "      <td>100</td>\n",
       "      <td>6</td>\n",
       "      <td>2</td>\n",
       "      <td>0</td>\n",
       "      <td>Нет</td>\n",
       "      <td>Да</td>\n",
       "      <td>В конкурсе</td>\n",
       "    </tr>\n",
       "    <tr>\n",
       "      <th>3</th>\n",
       "      <td>4</td>\n",
       "      <td>Нет</td>\n",
       "      <td>Да</td>\n",
       "      <td>408</td>\n",
       "      <td>100</td>\n",
       "      <td>100</td>\n",
       "      <td>100</td>\n",
       "      <td>100</td>\n",
       "      <td>6</td>\n",
       "      <td>2</td>\n",
       "      <td>0</td>\n",
       "      <td>Нет</td>\n",
       "      <td>Нет</td>\n",
       "      <td>В конкурсе</td>\n",
       "    </tr>\n",
       "    <tr>\n",
       "      <th>4</th>\n",
       "      <td>5</td>\n",
       "      <td>Нет</td>\n",
       "      <td>Нет</td>\n",
       "      <td>407</td>\n",
       "      <td>100</td>\n",
       "      <td>99</td>\n",
       "      <td>100</td>\n",
       "      <td>100</td>\n",
       "      <td>6</td>\n",
       "      <td>2</td>\n",
       "      <td>0</td>\n",
       "      <td>Нет</td>\n",
       "      <td>Да</td>\n",
       "      <td>В конкурсе</td>\n",
       "    </tr>\n",
       "  </tbody>\n",
       "</table>\n",
       "</div>"
      ],
      "text/plain": [
       "   № Наличие согласия Согласие в МГУ  Сумма баллов  Математика (ДВИ)  \\\n",
       "0  1               Да             Да           408               100   \n",
       "1  2              Нет            Нет           408               100   \n",
       "2  3              Нет            Нет           408               100   \n",
       "3  4              Нет             Да           408               100   \n",
       "4  5              Нет            Нет           407               100   \n",
       "\n",
       "   Математика (ЕГЭ)  Физика  Русский язык  \\\n",
       "0               100     100           100   \n",
       "1               100     100           100   \n",
       "2               100     100           100   \n",
       "3               100     100           100   \n",
       "4                99     100           100   \n",
       "\n",
       "   Индивидуальные достижения - аттестат  \\\n",
       "0                                     6   \n",
       "1                                     6   \n",
       "2                                     6   \n",
       "3                                     6   \n",
       "4                                     6   \n",
       "\n",
       "   Индивидуальные достижения - сочинение  Индивидуальные достижения - ГТО  \\\n",
       "0                                      2                                0   \n",
       "1                                      2                                0   \n",
       "2                                      2                                0   \n",
       "3                                      2                                0   \n",
       "4                                      2                                0   \n",
       "\n",
       "  Преимущественное право зачисления Право на общежитие      Статус  \n",
       "0                               Нет                Нет  В конкурсе  \n",
       "1                               Нет                Нет  В конкурсе  \n",
       "2                               Нет                 Да  В конкурсе  \n",
       "3                               Нет                Нет  В конкурсе  \n",
       "4                               Нет                 Да  В конкурсе  "
      ]
     },
     "execution_count": 84,
     "metadata": {},
     "output_type": "execute_result"
    }
   ],
   "source": [
    "entrants = pd.read_csv(\"math_entrants.csv\")\n",
    "entrants.head()"
   ]
  },
  {
   "cell_type": "markdown",
   "id": "VwB0_p87-7Bg",
   "metadata": {
    "id": "VwB0_p87-7Bg"
   },
   "source": [
    "Для простоты работы со столбцами переименуем их так, чтобы с ними было легче работать. Не будем отказываться полностью от русского языка, но сократим название каждого столбца до одного слова.\n",
    "\n",
    "Воспользуемся функцией pandas.DataFrame.rename(), которая позволит нам переименовать столбцы. "
   ]
  },
  {
   "cell_type": "code",
   "execution_count": 85,
   "id": "QxDFb6Z1-7Bh",
   "metadata": {
    "colab": {
     "base_uri": "https://localhost:8080/",
     "height": 374
    },
    "id": "QxDFb6Z1-7Bh",
    "outputId": "f804f134-d7ae-41ba-b89a-ded636443a0f",
    "scrolled": true
   },
   "outputs": [
    {
     "data": {
      "text/html": [
       "<div>\n",
       "<style scoped>\n",
       "    .dataframe tbody tr th:only-of-type {\n",
       "        vertical-align: middle;\n",
       "    }\n",
       "\n",
       "    .dataframe tbody tr th {\n",
       "        vertical-align: top;\n",
       "    }\n",
       "\n",
       "    .dataframe thead th {\n",
       "        text-align: right;\n",
       "    }\n",
       "</style>\n",
       "<table border=\"1\" class=\"dataframe\">\n",
       "  <thead>\n",
       "    <tr style=\"text-align: right;\">\n",
       "      <th></th>\n",
       "      <th>№</th>\n",
       "      <th>Наличие согласия</th>\n",
       "      <th>Согласие в МГУ</th>\n",
       "      <th>сумма</th>\n",
       "      <th>ДВИ</th>\n",
       "      <th>математика</th>\n",
       "      <th>физика</th>\n",
       "      <th>русский</th>\n",
       "      <th>аттестат</th>\n",
       "      <th>сочинение</th>\n",
       "      <th>ГТО</th>\n",
       "      <th>преимущество</th>\n",
       "      <th>общежитие</th>\n",
       "      <th>Статус</th>\n",
       "    </tr>\n",
       "  </thead>\n",
       "  <tbody>\n",
       "    <tr>\n",
       "      <th>0</th>\n",
       "      <td>1</td>\n",
       "      <td>Да</td>\n",
       "      <td>Да</td>\n",
       "      <td>408</td>\n",
       "      <td>100</td>\n",
       "      <td>100</td>\n",
       "      <td>100</td>\n",
       "      <td>100</td>\n",
       "      <td>6</td>\n",
       "      <td>2</td>\n",
       "      <td>0</td>\n",
       "      <td>Нет</td>\n",
       "      <td>Нет</td>\n",
       "      <td>В конкурсе</td>\n",
       "    </tr>\n",
       "    <tr>\n",
       "      <th>1</th>\n",
       "      <td>2</td>\n",
       "      <td>Нет</td>\n",
       "      <td>Нет</td>\n",
       "      <td>408</td>\n",
       "      <td>100</td>\n",
       "      <td>100</td>\n",
       "      <td>100</td>\n",
       "      <td>100</td>\n",
       "      <td>6</td>\n",
       "      <td>2</td>\n",
       "      <td>0</td>\n",
       "      <td>Нет</td>\n",
       "      <td>Нет</td>\n",
       "      <td>В конкурсе</td>\n",
       "    </tr>\n",
       "    <tr>\n",
       "      <th>2</th>\n",
       "      <td>3</td>\n",
       "      <td>Нет</td>\n",
       "      <td>Нет</td>\n",
       "      <td>408</td>\n",
       "      <td>100</td>\n",
       "      <td>100</td>\n",
       "      <td>100</td>\n",
       "      <td>100</td>\n",
       "      <td>6</td>\n",
       "      <td>2</td>\n",
       "      <td>0</td>\n",
       "      <td>Нет</td>\n",
       "      <td>Да</td>\n",
       "      <td>В конкурсе</td>\n",
       "    </tr>\n",
       "    <tr>\n",
       "      <th>3</th>\n",
       "      <td>4</td>\n",
       "      <td>Нет</td>\n",
       "      <td>Да</td>\n",
       "      <td>408</td>\n",
       "      <td>100</td>\n",
       "      <td>100</td>\n",
       "      <td>100</td>\n",
       "      <td>100</td>\n",
       "      <td>6</td>\n",
       "      <td>2</td>\n",
       "      <td>0</td>\n",
       "      <td>Нет</td>\n",
       "      <td>Нет</td>\n",
       "      <td>В конкурсе</td>\n",
       "    </tr>\n",
       "    <tr>\n",
       "      <th>4</th>\n",
       "      <td>5</td>\n",
       "      <td>Нет</td>\n",
       "      <td>Нет</td>\n",
       "      <td>407</td>\n",
       "      <td>100</td>\n",
       "      <td>99</td>\n",
       "      <td>100</td>\n",
       "      <td>100</td>\n",
       "      <td>6</td>\n",
       "      <td>2</td>\n",
       "      <td>0</td>\n",
       "      <td>Нет</td>\n",
       "      <td>Да</td>\n",
       "      <td>В конкурсе</td>\n",
       "    </tr>\n",
       "  </tbody>\n",
       "</table>\n",
       "</div>"
      ],
      "text/plain": [
       "   № Наличие согласия Согласие в МГУ  сумма  ДВИ  математика  физика  русский  \\\n",
       "0  1               Да             Да    408  100         100     100      100   \n",
       "1  2              Нет            Нет    408  100         100     100      100   \n",
       "2  3              Нет            Нет    408  100         100     100      100   \n",
       "3  4              Нет             Да    408  100         100     100      100   \n",
       "4  5              Нет            Нет    407  100          99     100      100   \n",
       "\n",
       "   аттестат  сочинение  ГТО преимущество общежитие      Статус  \n",
       "0         6          2    0          Нет       Нет  В конкурсе  \n",
       "1         6          2    0          Нет       Нет  В конкурсе  \n",
       "2         6          2    0          Нет        Да  В конкурсе  \n",
       "3         6          2    0          Нет       Нет  В конкурсе  \n",
       "4         6          2    0          Нет        Да  В конкурсе  "
      ]
     },
     "execution_count": 85,
     "metadata": {},
     "output_type": "execute_result"
    }
   ],
   "source": [
    "entrants.rename(columns = {'Сумма баллов':'сумма',\n",
    "                           'Математика (ДВИ)':'ДВИ',\n",
    "                           'Математика (ЕГЭ)':'математика',\n",
    "                           'Физика':'физика',\n",
    "                           'Русский язык':'русский',\n",
    "                           'Индивидуальные достижения - аттестат':'аттестат',\n",
    "                           'Индивидуальные достижения - сочинение':'сочинение',\n",
    "                           'Индивидуальные достижения - ГТО':'ГТО',\n",
    "                           'Преимущественное право зачисления':'преимущество',\n",
    "                           'Право на общежитие':'общежитие'},\n",
    "                inplace = True)\n",
    "entrants.head()"
   ]
  },
  {
   "cell_type": "markdown",
   "id": "31FpHHKL-7Bh",
   "metadata": {
    "id": "31FpHHKL-7Bh"
   },
   "source": [
    "Всегда удобнее работать с типом данных bool, чем с типом данных string. Изменим тип данных в столбцах типа \"Да/Нет\" на логический:"
   ]
  },
  {
   "cell_type": "code",
   "execution_count": 86,
   "id": "TZuG3euL-7Bi",
   "metadata": {
    "colab": {
     "base_uri": "https://localhost:8080/",
     "height": 374
    },
    "id": "TZuG3euL-7Bi",
    "outputId": "38640f3e-ec64-40ed-860a-9234e46d2275",
    "scrolled": true
   },
   "outputs": [
    {
     "data": {
      "text/html": [
       "<div>\n",
       "<style scoped>\n",
       "    .dataframe tbody tr th:only-of-type {\n",
       "        vertical-align: middle;\n",
       "    }\n",
       "\n",
       "    .dataframe tbody tr th {\n",
       "        vertical-align: top;\n",
       "    }\n",
       "\n",
       "    .dataframe thead th {\n",
       "        text-align: right;\n",
       "    }\n",
       "</style>\n",
       "<table border=\"1\" class=\"dataframe\">\n",
       "  <thead>\n",
       "    <tr style=\"text-align: right;\">\n",
       "      <th></th>\n",
       "      <th>№</th>\n",
       "      <th>Наличие согласия</th>\n",
       "      <th>Согласие в МГУ</th>\n",
       "      <th>сумма</th>\n",
       "      <th>ДВИ</th>\n",
       "      <th>математика</th>\n",
       "      <th>физика</th>\n",
       "      <th>русский</th>\n",
       "      <th>аттестат</th>\n",
       "      <th>сочинение</th>\n",
       "      <th>ГТО</th>\n",
       "      <th>преимущество</th>\n",
       "      <th>общежитие</th>\n",
       "      <th>Статус</th>\n",
       "    </tr>\n",
       "  </thead>\n",
       "  <tbody>\n",
       "    <tr>\n",
       "      <th>0</th>\n",
       "      <td>1</td>\n",
       "      <td>True</td>\n",
       "      <td>True</td>\n",
       "      <td>408</td>\n",
       "      <td>100</td>\n",
       "      <td>100</td>\n",
       "      <td>100</td>\n",
       "      <td>100</td>\n",
       "      <td>6</td>\n",
       "      <td>2</td>\n",
       "      <td>0</td>\n",
       "      <td>False</td>\n",
       "      <td>False</td>\n",
       "      <td>В конкурсе</td>\n",
       "    </tr>\n",
       "    <tr>\n",
       "      <th>1</th>\n",
       "      <td>2</td>\n",
       "      <td>False</td>\n",
       "      <td>False</td>\n",
       "      <td>408</td>\n",
       "      <td>100</td>\n",
       "      <td>100</td>\n",
       "      <td>100</td>\n",
       "      <td>100</td>\n",
       "      <td>6</td>\n",
       "      <td>2</td>\n",
       "      <td>0</td>\n",
       "      <td>False</td>\n",
       "      <td>False</td>\n",
       "      <td>В конкурсе</td>\n",
       "    </tr>\n",
       "    <tr>\n",
       "      <th>2</th>\n",
       "      <td>3</td>\n",
       "      <td>False</td>\n",
       "      <td>False</td>\n",
       "      <td>408</td>\n",
       "      <td>100</td>\n",
       "      <td>100</td>\n",
       "      <td>100</td>\n",
       "      <td>100</td>\n",
       "      <td>6</td>\n",
       "      <td>2</td>\n",
       "      <td>0</td>\n",
       "      <td>False</td>\n",
       "      <td>True</td>\n",
       "      <td>В конкурсе</td>\n",
       "    </tr>\n",
       "    <tr>\n",
       "      <th>3</th>\n",
       "      <td>4</td>\n",
       "      <td>False</td>\n",
       "      <td>True</td>\n",
       "      <td>408</td>\n",
       "      <td>100</td>\n",
       "      <td>100</td>\n",
       "      <td>100</td>\n",
       "      <td>100</td>\n",
       "      <td>6</td>\n",
       "      <td>2</td>\n",
       "      <td>0</td>\n",
       "      <td>False</td>\n",
       "      <td>False</td>\n",
       "      <td>В конкурсе</td>\n",
       "    </tr>\n",
       "    <tr>\n",
       "      <th>4</th>\n",
       "      <td>5</td>\n",
       "      <td>False</td>\n",
       "      <td>False</td>\n",
       "      <td>407</td>\n",
       "      <td>100</td>\n",
       "      <td>99</td>\n",
       "      <td>100</td>\n",
       "      <td>100</td>\n",
       "      <td>6</td>\n",
       "      <td>2</td>\n",
       "      <td>0</td>\n",
       "      <td>False</td>\n",
       "      <td>True</td>\n",
       "      <td>В конкурсе</td>\n",
       "    </tr>\n",
       "  </tbody>\n",
       "</table>\n",
       "</div>"
      ],
      "text/plain": [
       "   №  Наличие согласия  Согласие в МГУ  сумма  ДВИ  математика  физика  \\\n",
       "0  1              True            True    408  100         100     100   \n",
       "1  2             False           False    408  100         100     100   \n",
       "2  3             False           False    408  100         100     100   \n",
       "3  4             False            True    408  100         100     100   \n",
       "4  5             False           False    407  100          99     100   \n",
       "\n",
       "   русский  аттестат  сочинение  ГТО  преимущество  общежитие      Статус  \n",
       "0      100         6          2    0         False      False  В конкурсе  \n",
       "1      100         6          2    0         False      False  В конкурсе  \n",
       "2      100         6          2    0         False       True  В конкурсе  \n",
       "3      100         6          2    0         False      False  В конкурсе  \n",
       "4      100         6          2    0         False       True  В конкурсе  "
      ]
     },
     "execution_count": 86,
     "metadata": {},
     "output_type": "execute_result"
    }
   ],
   "source": [
    "entrants[\"Наличие согласия\"] = (entrants[\"Наличие согласия\"] == \"Да\")\n",
    "entrants[\"Согласие в МГУ\"] = (entrants[\"Согласие в МГУ\"] == \"Да\")\n",
    "entrants[\"преимущество\"] = (entrants[\"преимущество\"] == \"Да\")\n",
    "entrants[\"общежитие\"] = (entrants[\"общежитие\"] == \"Да\")\n",
    "entrants.head()"
   ]
  },
  {
   "cell_type": "code",
   "execution_count": 87,
   "id": "GrDaunQvPFBm",
   "metadata": {
    "colab": {
     "base_uri": "https://localhost:8080/"
    },
    "id": "GrDaunQvPFBm",
    "outputId": "ca766ab7-395f-4b22-a21b-8adb84848391"
   },
   "outputs": [
    {
     "name": "stdout",
     "output_type": "stream",
     "text": [
      "<class 'pandas.core.frame.DataFrame'>\n",
      "RangeIndex: 905 entries, 0 to 904\n",
      "Data columns (total 14 columns):\n",
      " #   Column            Non-Null Count  Dtype \n",
      "---  ------            --------------  ----- \n",
      " 0   №                 905 non-null    int64 \n",
      " 1   Наличие согласия  905 non-null    bool  \n",
      " 2   Согласие в МГУ    905 non-null    bool  \n",
      " 3   сумма             905 non-null    int64 \n",
      " 4   ДВИ               905 non-null    int64 \n",
      " 5   математика        905 non-null    int64 \n",
      " 6   физика            905 non-null    int64 \n",
      " 7   русский           905 non-null    int64 \n",
      " 8   аттестат          905 non-null    int64 \n",
      " 9   сочинение         905 non-null    int64 \n",
      " 10  ГТО               905 non-null    int64 \n",
      " 11  преимущество      905 non-null    bool  \n",
      " 12  общежитие         905 non-null    bool  \n",
      " 13  Статус            905 non-null    object\n",
      "dtypes: bool(4), int64(9), object(1)\n",
      "memory usage: 74.4+ KB\n"
     ]
    }
   ],
   "source": [
    "entrants.info()"
   ]
  },
  {
   "cell_type": "markdown",
   "id": "YQ-QMYDW-7Bi",
   "metadata": {
    "id": "YQ-QMYDW-7Bi"
   },
   "source": [
    "Проверим, не у всех ли студентов из данного списка статус \"В конкурсе\". Если это так, то данный столбец ничем не поможет нам в анализе данных, и мы сможем его удалить"
   ]
  },
  {
   "cell_type": "code",
   "execution_count": 88,
   "id": "cnWxfWaQ-7Bi",
   "metadata": {
    "colab": {
     "base_uri": "https://localhost:8080/"
    },
    "id": "cnWxfWaQ-7Bi",
    "outputId": "7ad2fdc9-867b-4bd0-e92c-0fd76058daf9"
   },
   "outputs": [
    {
     "data": {
      "text/plain": [
       "True"
      ]
     },
     "execution_count": 88,
     "metadata": {},
     "output_type": "execute_result"
    }
   ],
   "source": [
    "(entrants['Статус'] == 'В конкурсе').all()"
   ]
  },
  {
   "cell_type": "markdown",
   "id": "IsRwbVE1-7Bj",
   "metadata": {
    "id": "IsRwbVE1-7Bj"
   },
   "source": [
    "У всех. Значит этот столбец можно просто удалить:"
   ]
  },
  {
   "cell_type": "code",
   "execution_count": 89,
   "id": "ccLorN2D-7Bj",
   "metadata": {
    "id": "ccLorN2D-7Bj"
   },
   "outputs": [],
   "source": [
    "entrants.drop('Статус', axis=1, inplace=True)"
   ]
  },
  {
   "cell_type": "markdown",
   "id": "tfhm8bDo-7Bj",
   "metadata": {
    "id": "tfhm8bDo-7Bj"
   },
   "source": [
    "Проверим то же самое про преимущество"
   ]
  },
  {
   "cell_type": "code",
   "execution_count": 90,
   "id": "7H4rLGZV-7Bj",
   "metadata": {
    "colab": {
     "base_uri": "https://localhost:8080/"
    },
    "id": "7H4rLGZV-7Bj",
    "outputId": "5bd65595-cc2a-400c-b960-4f893cc7762c"
   },
   "outputs": [
    {
     "data": {
      "text/plain": [
       "False    905\n",
       "Name: преимущество, dtype: int64"
      ]
     },
     "execution_count": 90,
     "metadata": {},
     "output_type": "execute_result"
    }
   ],
   "source": [
    "entrants[\"преимущество\"].value_counts()"
   ]
  },
  {
   "cell_type": "code",
   "execution_count": 91,
   "id": "_6g8vfJrPoUK",
   "metadata": {
    "colab": {
     "base_uri": "https://localhost:8080/"
    },
    "id": "_6g8vfJrPoUK",
    "outputId": "dc793a50-5dee-42f0-edab-69f85efb24b7"
   },
   "outputs": [
    {
     "data": {
      "text/plain": [
       "0    746\n",
       "2    159\n",
       "Name: ГТО, dtype: int64"
      ]
     },
     "execution_count": 91,
     "metadata": {},
     "output_type": "execute_result"
    }
   ],
   "source": [
    "entrants[\"ГТО\"].value_counts()"
   ]
  },
  {
   "cell_type": "code",
   "execution_count": 92,
   "id": "oKKvtYwP-7Bk",
   "metadata": {
    "colab": {
     "base_uri": "https://localhost:8080/"
    },
    "id": "oKKvtYwP-7Bk",
    "outputId": "6c98f16e-0015-4500-ba6e-3e6b5ae05371"
   },
   "outputs": [
    {
     "data": {
      "text/plain": [
       "True"
      ]
     },
     "execution_count": 92,
     "metadata": {},
     "output_type": "execute_result"
    }
   ],
   "source": [
    "(entrants['преимущество'] == False).all()"
   ]
  },
  {
   "cell_type": "markdown",
   "id": "rCmcfxmg-7Bk",
   "metadata": {
    "id": "rCmcfxmg-7Bk"
   },
   "source": [
    "Значит, от него также можно избавиться"
   ]
  },
  {
   "cell_type": "code",
   "execution_count": 93,
   "id": "BqOttMm3-7Bl",
   "metadata": {
    "id": "BqOttMm3-7Bl"
   },
   "outputs": [],
   "source": [
    "entrants.drop('преимущество', axis=1, inplace=True)"
   ]
  },
  {
   "cell_type": "markdown",
   "id": "CTnWU01P-7Bl",
   "metadata": {
    "id": "CTnWU01P-7Bl"
   },
   "source": [
    "Общее описание всех параметров данных в pandas можно получить при помощи функции describe"
   ]
  },
  {
   "cell_type": "code",
   "execution_count": 96,
   "id": "79fe028a",
   "metadata": {},
   "outputs": [
    {
     "data": {
      "text/html": [
       "<div>\n",
       "<style scoped>\n",
       "    .dataframe tbody tr th:only-of-type {\n",
       "        vertical-align: middle;\n",
       "    }\n",
       "\n",
       "    .dataframe tbody tr th {\n",
       "        vertical-align: top;\n",
       "    }\n",
       "\n",
       "    .dataframe thead th {\n",
       "        text-align: right;\n",
       "    }\n",
       "</style>\n",
       "<table border=\"1\" class=\"dataframe\">\n",
       "  <thead>\n",
       "    <tr style=\"text-align: right;\">\n",
       "      <th></th>\n",
       "      <th>№</th>\n",
       "      <th>Наличие согласия</th>\n",
       "      <th>Согласие в МГУ</th>\n",
       "      <th>сумма</th>\n",
       "      <th>ДВИ</th>\n",
       "      <th>математика</th>\n",
       "      <th>физика</th>\n",
       "      <th>русский</th>\n",
       "      <th>аттестат</th>\n",
       "      <th>сочинение</th>\n",
       "      <th>ГТО</th>\n",
       "      <th>общежитие</th>\n",
       "    </tr>\n",
       "  </thead>\n",
       "  <tbody>\n",
       "    <tr>\n",
       "      <th>0</th>\n",
       "      <td>1</td>\n",
       "      <td>True</td>\n",
       "      <td>True</td>\n",
       "      <td>408</td>\n",
       "      <td>100</td>\n",
       "      <td>100</td>\n",
       "      <td>100</td>\n",
       "      <td>100</td>\n",
       "      <td>6</td>\n",
       "      <td>2</td>\n",
       "      <td>0</td>\n",
       "      <td>False</td>\n",
       "    </tr>\n",
       "    <tr>\n",
       "      <th>1</th>\n",
       "      <td>2</td>\n",
       "      <td>False</td>\n",
       "      <td>False</td>\n",
       "      <td>408</td>\n",
       "      <td>100</td>\n",
       "      <td>100</td>\n",
       "      <td>100</td>\n",
       "      <td>100</td>\n",
       "      <td>6</td>\n",
       "      <td>2</td>\n",
       "      <td>0</td>\n",
       "      <td>False</td>\n",
       "    </tr>\n",
       "    <tr>\n",
       "      <th>2</th>\n",
       "      <td>3</td>\n",
       "      <td>False</td>\n",
       "      <td>False</td>\n",
       "      <td>408</td>\n",
       "      <td>100</td>\n",
       "      <td>100</td>\n",
       "      <td>100</td>\n",
       "      <td>100</td>\n",
       "      <td>6</td>\n",
       "      <td>2</td>\n",
       "      <td>0</td>\n",
       "      <td>True</td>\n",
       "    </tr>\n",
       "    <tr>\n",
       "      <th>3</th>\n",
       "      <td>4</td>\n",
       "      <td>False</td>\n",
       "      <td>True</td>\n",
       "      <td>408</td>\n",
       "      <td>100</td>\n",
       "      <td>100</td>\n",
       "      <td>100</td>\n",
       "      <td>100</td>\n",
       "      <td>6</td>\n",
       "      <td>2</td>\n",
       "      <td>0</td>\n",
       "      <td>False</td>\n",
       "    </tr>\n",
       "    <tr>\n",
       "      <th>4</th>\n",
       "      <td>5</td>\n",
       "      <td>False</td>\n",
       "      <td>False</td>\n",
       "      <td>407</td>\n",
       "      <td>100</td>\n",
       "      <td>99</td>\n",
       "      <td>100</td>\n",
       "      <td>100</td>\n",
       "      <td>6</td>\n",
       "      <td>2</td>\n",
       "      <td>0</td>\n",
       "      <td>True</td>\n",
       "    </tr>\n",
       "    <tr>\n",
       "      <th>...</th>\n",
       "      <td>...</td>\n",
       "      <td>...</td>\n",
       "      <td>...</td>\n",
       "      <td>...</td>\n",
       "      <td>...</td>\n",
       "      <td>...</td>\n",
       "      <td>...</td>\n",
       "      <td>...</td>\n",
       "      <td>...</td>\n",
       "      <td>...</td>\n",
       "      <td>...</td>\n",
       "      <td>...</td>\n",
       "    </tr>\n",
       "    <tr>\n",
       "      <th>900</th>\n",
       "      <td>901</td>\n",
       "      <td>False</td>\n",
       "      <td>True</td>\n",
       "      <td>277</td>\n",
       "      <td>55</td>\n",
       "      <td>72</td>\n",
       "      <td>64</td>\n",
       "      <td>78</td>\n",
       "      <td>6</td>\n",
       "      <td>2</td>\n",
       "      <td>0</td>\n",
       "      <td>True</td>\n",
       "    </tr>\n",
       "    <tr>\n",
       "      <th>901</th>\n",
       "      <td>902</td>\n",
       "      <td>False</td>\n",
       "      <td>False</td>\n",
       "      <td>275</td>\n",
       "      <td>50</td>\n",
       "      <td>78</td>\n",
       "      <td>57</td>\n",
       "      <td>80</td>\n",
       "      <td>6</td>\n",
       "      <td>2</td>\n",
       "      <td>2</td>\n",
       "      <td>True</td>\n",
       "    </tr>\n",
       "    <tr>\n",
       "      <th>902</th>\n",
       "      <td>903</td>\n",
       "      <td>False</td>\n",
       "      <td>True</td>\n",
       "      <td>272</td>\n",
       "      <td>60</td>\n",
       "      <td>70</td>\n",
       "      <td>60</td>\n",
       "      <td>80</td>\n",
       "      <td>0</td>\n",
       "      <td>2</td>\n",
       "      <td>0</td>\n",
       "      <td>False</td>\n",
       "    </tr>\n",
       "    <tr>\n",
       "      <th>903</th>\n",
       "      <td>904</td>\n",
       "      <td>False</td>\n",
       "      <td>True</td>\n",
       "      <td>270</td>\n",
       "      <td>70</td>\n",
       "      <td>70</td>\n",
       "      <td>57</td>\n",
       "      <td>69</td>\n",
       "      <td>0</td>\n",
       "      <td>2</td>\n",
       "      <td>2</td>\n",
       "      <td>False</td>\n",
       "    </tr>\n",
       "    <tr>\n",
       "      <th>904</th>\n",
       "      <td>905</td>\n",
       "      <td>False</td>\n",
       "      <td>False</td>\n",
       "      <td>268</td>\n",
       "      <td>65</td>\n",
       "      <td>62</td>\n",
       "      <td>61</td>\n",
       "      <td>76</td>\n",
       "      <td>0</td>\n",
       "      <td>2</td>\n",
       "      <td>2</td>\n",
       "      <td>False</td>\n",
       "    </tr>\n",
       "  </tbody>\n",
       "</table>\n",
       "<p>905 rows × 12 columns</p>\n",
       "</div>"
      ],
      "text/plain": [
       "       №  Наличие согласия  Согласие в МГУ  сумма  ДВИ  математика  физика  \\\n",
       "0      1              True            True    408  100         100     100   \n",
       "1      2             False           False    408  100         100     100   \n",
       "2      3             False           False    408  100         100     100   \n",
       "3      4             False            True    408  100         100     100   \n",
       "4      5             False           False    407  100          99     100   \n",
       "..   ...               ...             ...    ...  ...         ...     ...   \n",
       "900  901             False            True    277   55          72      64   \n",
       "901  902             False           False    275   50          78      57   \n",
       "902  903             False            True    272   60          70      60   \n",
       "903  904             False            True    270   70          70      57   \n",
       "904  905             False           False    268   65          62      61   \n",
       "\n",
       "     русский  аттестат  сочинение  ГТО  общежитие  \n",
       "0        100         6          2    0      False  \n",
       "1        100         6          2    0      False  \n",
       "2        100         6          2    0       True  \n",
       "3        100         6          2    0      False  \n",
       "4        100         6          2    0       True  \n",
       "..       ...       ...        ...  ...        ...  \n",
       "900       78         6          2    0       True  \n",
       "901       80         6          2    2       True  \n",
       "902       80         0          2    0      False  \n",
       "903       69         0          2    2      False  \n",
       "904       76         0          2    2      False  \n",
       "\n",
       "[905 rows x 12 columns]"
      ]
     },
     "execution_count": 96,
     "metadata": {},
     "output_type": "execute_result"
    }
   ],
   "source": [
    "entrants"
   ]
  },
  {
   "cell_type": "code",
   "execution_count": 94,
   "id": "NjDIbd3B-7Bl",
   "metadata": {
    "colab": {
     "base_uri": "https://localhost:8080/",
     "height": 300
    },
    "id": "NjDIbd3B-7Bl",
    "outputId": "669168c7-baa0-44f2-a8cf-b5a72bfe9342"
   },
   "outputs": [
    {
     "data": {
      "text/html": [
       "<div>\n",
       "<style scoped>\n",
       "    .dataframe tbody tr th:only-of-type {\n",
       "        vertical-align: middle;\n",
       "    }\n",
       "\n",
       "    .dataframe tbody tr th {\n",
       "        vertical-align: top;\n",
       "    }\n",
       "\n",
       "    .dataframe thead th {\n",
       "        text-align: right;\n",
       "    }\n",
       "</style>\n",
       "<table border=\"1\" class=\"dataframe\">\n",
       "  <thead>\n",
       "    <tr style=\"text-align: right;\">\n",
       "      <th></th>\n",
       "      <th>№</th>\n",
       "      <th>сумма</th>\n",
       "      <th>ДВИ</th>\n",
       "      <th>математика</th>\n",
       "      <th>физика</th>\n",
       "      <th>русский</th>\n",
       "      <th>аттестат</th>\n",
       "      <th>сочинение</th>\n",
       "      <th>ГТО</th>\n",
       "    </tr>\n",
       "  </thead>\n",
       "  <tbody>\n",
       "    <tr>\n",
       "      <th>count</th>\n",
       "      <td>905.000000</td>\n",
       "      <td>905.000000</td>\n",
       "      <td>905.000000</td>\n",
       "      <td>905.000000</td>\n",
       "      <td>905.000000</td>\n",
       "      <td>905.000000</td>\n",
       "      <td>905.000000</td>\n",
       "      <td>905.000000</td>\n",
       "      <td>905.000000</td>\n",
       "    </tr>\n",
       "    <tr>\n",
       "      <th>mean</th>\n",
       "      <td>453.000000</td>\n",
       "      <td>351.367956</td>\n",
       "      <td>77.662983</td>\n",
       "      <td>89.240884</td>\n",
       "      <td>89.038674</td>\n",
       "      <td>90.453039</td>\n",
       "      <td>2.671823</td>\n",
       "      <td>1.949171</td>\n",
       "      <td>0.351381</td>\n",
       "    </tr>\n",
       "    <tr>\n",
       "      <th>std</th>\n",
       "      <td>261.395295</td>\n",
       "      <td>27.547675</td>\n",
       "      <td>15.383455</td>\n",
       "      <td>7.546133</td>\n",
       "      <td>9.649823</td>\n",
       "      <td>6.576663</td>\n",
       "      <td>2.983645</td>\n",
       "      <td>0.314934</td>\n",
       "      <td>0.761534</td>\n",
       "    </tr>\n",
       "    <tr>\n",
       "      <th>min</th>\n",
       "      <td>1.000000</td>\n",
       "      <td>268.000000</td>\n",
       "      <td>50.000000</td>\n",
       "      <td>62.000000</td>\n",
       "      <td>55.000000</td>\n",
       "      <td>60.000000</td>\n",
       "      <td>0.000000</td>\n",
       "      <td>0.000000</td>\n",
       "      <td>0.000000</td>\n",
       "    </tr>\n",
       "    <tr>\n",
       "      <th>25%</th>\n",
       "      <td>227.000000</td>\n",
       "      <td>332.000000</td>\n",
       "      <td>65.000000</td>\n",
       "      <td>84.000000</td>\n",
       "      <td>84.000000</td>\n",
       "      <td>86.000000</td>\n",
       "      <td>0.000000</td>\n",
       "      <td>2.000000</td>\n",
       "      <td>0.000000</td>\n",
       "    </tr>\n",
       "    <tr>\n",
       "      <th>50%</th>\n",
       "      <td>453.000000</td>\n",
       "      <td>354.000000</td>\n",
       "      <td>80.000000</td>\n",
       "      <td>90.000000</td>\n",
       "      <td>91.000000</td>\n",
       "      <td>92.000000</td>\n",
       "      <td>0.000000</td>\n",
       "      <td>2.000000</td>\n",
       "      <td>0.000000</td>\n",
       "    </tr>\n",
       "    <tr>\n",
       "      <th>75%</th>\n",
       "      <td>679.000000</td>\n",
       "      <td>371.000000</td>\n",
       "      <td>90.000000</td>\n",
       "      <td>96.000000</td>\n",
       "      <td>97.000000</td>\n",
       "      <td>96.000000</td>\n",
       "      <td>6.000000</td>\n",
       "      <td>2.000000</td>\n",
       "      <td>0.000000</td>\n",
       "    </tr>\n",
       "    <tr>\n",
       "      <th>max</th>\n",
       "      <td>905.000000</td>\n",
       "      <td>408.000000</td>\n",
       "      <td>100.000000</td>\n",
       "      <td>100.000000</td>\n",
       "      <td>100.000000</td>\n",
       "      <td>100.000000</td>\n",
       "      <td>6.000000</td>\n",
       "      <td>2.000000</td>\n",
       "      <td>2.000000</td>\n",
       "    </tr>\n",
       "  </tbody>\n",
       "</table>\n",
       "</div>"
      ],
      "text/plain": [
       "                №       сумма         ДВИ  математика      физика     русский  \\\n",
       "count  905.000000  905.000000  905.000000  905.000000  905.000000  905.000000   \n",
       "mean   453.000000  351.367956   77.662983   89.240884   89.038674   90.453039   \n",
       "std    261.395295   27.547675   15.383455    7.546133    9.649823    6.576663   \n",
       "min      1.000000  268.000000   50.000000   62.000000   55.000000   60.000000   \n",
       "25%    227.000000  332.000000   65.000000   84.000000   84.000000   86.000000   \n",
       "50%    453.000000  354.000000   80.000000   90.000000   91.000000   92.000000   \n",
       "75%    679.000000  371.000000   90.000000   96.000000   97.000000   96.000000   \n",
       "max    905.000000  408.000000  100.000000  100.000000  100.000000  100.000000   \n",
       "\n",
       "         аттестат   сочинение         ГТО  \n",
       "count  905.000000  905.000000  905.000000  \n",
       "mean     2.671823    1.949171    0.351381  \n",
       "std      2.983645    0.314934    0.761534  \n",
       "min      0.000000    0.000000    0.000000  \n",
       "25%      0.000000    2.000000    0.000000  \n",
       "50%      0.000000    2.000000    0.000000  \n",
       "75%      6.000000    2.000000    0.000000  \n",
       "max      6.000000    2.000000    2.000000  "
      ]
     },
     "execution_count": 94,
     "metadata": {},
     "output_type": "execute_result"
    }
   ],
   "source": [
    "entrants.describe()"
   ]
  },
  {
   "cell_type": "markdown",
   "id": "mw2_SfaB-7Bl",
   "metadata": {
    "id": "mw2_SfaB-7Bl"
   },
   "source": [
    "\n",
    "Первое, что стоит сделать — посмотреть как выглядит распределение суммы баллов на гистограмме. Мы увидим, какую структуру имеют данные."
   ]
  },
  {
   "cell_type": "code",
   "execution_count": 95,
   "id": "qWmmRaBD-7Bm",
   "metadata": {
    "colab": {
     "base_uri": "https://localhost:8080/",
     "height": 282
    },
    "id": "qWmmRaBD-7Bm",
    "outputId": "91c509a7-93be-4a89-8d3f-fff18996aa80"
   },
   "outputs": [
    {
     "data": {
      "image/png": "[encoded data removed]",
      "text/plain": [
       "<Figure size 640x480 with 1 Axes>"
      ]
     },
     "metadata": {},
     "output_type": "display_data"
    }
   ],
   "source": [
    "entrants['сумма'].plot.hist(bins=40);"
   ]
  },
  {
   "cell_type": "markdown",
   "id": "XkZKGkAf-7Bm",
   "metadata": {
    "id": "XkZKGkAf-7Bm"
   },
   "source": [
    "Проверим, такое же распределение получается у студентов, сдавших успешно ГТО? Может быть, ГТО существенно повлияло на их поступление, хотя они менее или более талантливы, чем другие студенты?"
   ]
  },
  {
   "cell_type": "code",
   "execution_count": 97,
   "id": "sCuIwRua-7Bm",
   "metadata": {
    "colab": {
     "base_uri": "https://localhost:8080/",
     "height": 300
    },
    "id": "sCuIwRua-7Bm",
    "outputId": "04f673c5-9b95-4c15-95cb-02ab04dcbf2d"
   },
   "outputs": [
    {
     "name": "stdout",
     "output_type": "stream",
     "text": [
      "352.61006289308176\n"
     ]
    },
    {
     "data": {
      "image/png": "[encoded data removed]",
      "text/plain": [
       "<Figure size 640x480 with 1 Axes>"
      ]
     },
     "metadata": {},
     "output_type": "display_data"
    }
   ],
   "source": [
    "print(entrants.query('ГТО == 2')['сумма'].mean())\n",
    "entrants.query('ГТО == 2')['сумма'].plot.hist(bins=40);"
   ]
  },
  {
   "cell_type": "markdown",
   "id": "X7jFC9sf-7Bm",
   "metadata": {
    "id": "X7jFC9sf-7Bm"
   },
   "source": [
    "Как мы видим, распределение очень похоже, имеет тот же максимум. Значит, наша гипотеза не верна. А что насчет несдавших ГТО?"
   ]
  },
  {
   "cell_type": "code",
   "execution_count": 98,
   "id": "euN89nNA-7Bn",
   "metadata": {
    "colab": {
     "base_uri": "https://localhost:8080/",
     "height": 282
    },
    "id": "euN89nNA-7Bn",
    "outputId": "2a3404d5-772b-4313-8879-141571e150d8",
    "scrolled": true
   },
   "outputs": [
    {
     "data": {
      "image/png": "[encoded data removed]",
      "text/plain": [
       "<Figure size 640x480 with 1 Axes>"
      ]
     },
     "metadata": {},
     "output_type": "display_data"
    }
   ],
   "source": [
    "entrants.query('ГТО == 0')['сумма'].plot.hist(bins=40);"
   ]
  },
  {
   "cell_type": "code",
   "execution_count": 99,
   "id": "-Mt_6COH-7Bn",
   "metadata": {
    "colab": {
     "base_uri": "https://localhost:8080/",
     "height": 282
    },
    "id": "-Mt_6COH-7Bn",
    "outputId": "095729dd-edca-4540-cd35-ca317c19bf94",
    "scrolled": true
   },
   "outputs": [
    {
     "data": {
      "image/png": "[encoded data removed]",
      "text/plain": [
       "<Figure size 640x480 with 1 Axes>"
      ]
     },
     "metadata": {},
     "output_type": "display_data"
    }
   ],
   "source": [
    "entrants.query(\"`математика` == 100\")[\"ДВИ\"].plot.hist(bins=10);"
   ]
  },
  {
   "cell_type": "markdown",
   "id": "c3RrlSV1-7Bn",
   "metadata": {
    "id": "c3RrlSV1-7Bn"
   },
   "source": [
    "Последняя гипотеза также оказалась верна. На деле не всегда бывает так."
   ]
  },
  {
   "cell_type": "markdown",
   "id": "-jSjUze--7Bn",
   "metadata": {
    "id": "-jSjUze--7Bn"
   },
   "source": [
    "Query — вообще очень мощный инструмент, позволяющий отфильтровать данные по ключевому запросу. Например, мы можем вывести всех абитуриентов, сдавших физику менее, чем на 80 баллов, следующей командой"
   ]
  },
  {
   "cell_type": "code",
   "execution_count": null,
   "id": "8a6oMG9b-7Bn",
   "metadata": {
    "colab": {
     "base_uri": "https://localhost:8080/",
     "height": 424
    },
    "id": "8a6oMG9b-7Bn",
    "outputId": "cc23d6b5-f458-46f7-9f0d-5b46d82d356c"
   },
   "outputs": [
    {
     "data": {
      "text/html": [
       "<div>\n",
       "<style scoped>\n",
       "    .dataframe tbody tr th:only-of-type {\n",
       "        vertical-align: middle;\n",
       "    }\n",
       "\n",
       "    .dataframe tbody tr th {\n",
       "        vertical-align: top;\n",
       "    }\n",
       "\n",
       "    .dataframe thead th {\n",
       "        text-align: right;\n",
       "    }\n",
       "</style>\n",
       "<table border=\"1\" class=\"dataframe\">\n",
       "  <thead>\n",
       "    <tr style=\"text-align: right;\">\n",
       "      <th></th>\n",
       "      <th>№</th>\n",
       "      <th>Наличие согласия</th>\n",
       "      <th>Согласие в МГУ</th>\n",
       "      <th>сумма</th>\n",
       "      <th>ДВИ</th>\n",
       "      <th>математика</th>\n",
       "      <th>физика</th>\n",
       "      <th>русский</th>\n",
       "      <th>аттестат</th>\n",
       "      <th>сочинение</th>\n",
       "      <th>ГТО</th>\n",
       "      <th>общежитие</th>\n",
       "    </tr>\n",
       "  </thead>\n",
       "  <tbody>\n",
       "    <tr>\n",
       "      <th>194</th>\n",
       "      <td>195</td>\n",
       "      <td>False</td>\n",
       "      <td>True</td>\n",
       "      <td>373</td>\n",
       "      <td>100</td>\n",
       "      <td>99</td>\n",
       "      <td>78</td>\n",
       "      <td>94</td>\n",
       "      <td>0</td>\n",
       "      <td>2</td>\n",
       "      <td>0</td>\n",
       "      <td>True</td>\n",
       "    </tr>\n",
       "    <tr>\n",
       "      <th>255</th>\n",
       "      <td>256</td>\n",
       "      <td>False</td>\n",
       "      <td>True</td>\n",
       "      <td>368</td>\n",
       "      <td>100</td>\n",
       "      <td>94</td>\n",
       "      <td>74</td>\n",
       "      <td>98</td>\n",
       "      <td>0</td>\n",
       "      <td>2</td>\n",
       "      <td>0</td>\n",
       "      <td>False</td>\n",
       "    </tr>\n",
       "    <tr>\n",
       "      <th>256</th>\n",
       "      <td>257</td>\n",
       "      <td>False</td>\n",
       "      <td>False</td>\n",
       "      <td>368</td>\n",
       "      <td>100</td>\n",
       "      <td>92</td>\n",
       "      <td>76</td>\n",
       "      <td>98</td>\n",
       "      <td>0</td>\n",
       "      <td>2</td>\n",
       "      <td>0</td>\n",
       "      <td>False</td>\n",
       "    </tr>\n",
       "    <tr>\n",
       "      <th>314</th>\n",
       "      <td>315</td>\n",
       "      <td>False</td>\n",
       "      <td>True</td>\n",
       "      <td>363</td>\n",
       "      <td>95</td>\n",
       "      <td>96</td>\n",
       "      <td>76</td>\n",
       "      <td>94</td>\n",
       "      <td>0</td>\n",
       "      <td>2</td>\n",
       "      <td>0</td>\n",
       "      <td>False</td>\n",
       "    </tr>\n",
       "    <tr>\n",
       "      <th>326</th>\n",
       "      <td>327</td>\n",
       "      <td>False</td>\n",
       "      <td>False</td>\n",
       "      <td>362</td>\n",
       "      <td>100</td>\n",
       "      <td>94</td>\n",
       "      <td>72</td>\n",
       "      <td>94</td>\n",
       "      <td>0</td>\n",
       "      <td>2</td>\n",
       "      <td>0</td>\n",
       "      <td>False</td>\n",
       "    </tr>\n",
       "    <tr>\n",
       "      <th>...</th>\n",
       "      <td>...</td>\n",
       "      <td>...</td>\n",
       "      <td>...</td>\n",
       "      <td>...</td>\n",
       "      <td>...</td>\n",
       "      <td>...</td>\n",
       "      <td>...</td>\n",
       "      <td>...</td>\n",
       "      <td>...</td>\n",
       "      <td>...</td>\n",
       "      <td>...</td>\n",
       "      <td>...</td>\n",
       "    </tr>\n",
       "    <tr>\n",
       "      <th>900</th>\n",
       "      <td>901</td>\n",
       "      <td>False</td>\n",
       "      <td>True</td>\n",
       "      <td>277</td>\n",
       "      <td>55</td>\n",
       "      <td>72</td>\n",
       "      <td>64</td>\n",
       "      <td>78</td>\n",
       "      <td>6</td>\n",
       "      <td>2</td>\n",
       "      <td>0</td>\n",
       "      <td>True</td>\n",
       "    </tr>\n",
       "    <tr>\n",
       "      <th>901</th>\n",
       "      <td>902</td>\n",
       "      <td>False</td>\n",
       "      <td>False</td>\n",
       "      <td>275</td>\n",
       "      <td>50</td>\n",
       "      <td>78</td>\n",
       "      <td>57</td>\n",
       "      <td>80</td>\n",
       "      <td>6</td>\n",
       "      <td>2</td>\n",
       "      <td>2</td>\n",
       "      <td>True</td>\n",
       "    </tr>\n",
       "    <tr>\n",
       "      <th>902</th>\n",
       "      <td>903</td>\n",
       "      <td>False</td>\n",
       "      <td>True</td>\n",
       "      <td>272</td>\n",
       "      <td>60</td>\n",
       "      <td>70</td>\n",
       "      <td>60</td>\n",
       "      <td>80</td>\n",
       "      <td>0</td>\n",
       "      <td>2</td>\n",
       "      <td>0</td>\n",
       "      <td>False</td>\n",
       "    </tr>\n",
       "    <tr>\n",
       "      <th>903</th>\n",
       "      <td>904</td>\n",
       "      <td>False</td>\n",
       "      <td>True</td>\n",
       "      <td>270</td>\n",
       "      <td>70</td>\n",
       "      <td>70</td>\n",
       "      <td>57</td>\n",
       "      <td>69</td>\n",
       "      <td>0</td>\n",
       "      <td>2</td>\n",
       "      <td>2</td>\n",
       "      <td>False</td>\n",
       "    </tr>\n",
       "    <tr>\n",
       "      <th>904</th>\n",
       "      <td>905</td>\n",
       "      <td>False</td>\n",
       "      <td>False</td>\n",
       "      <td>268</td>\n",
       "      <td>65</td>\n",
       "      <td>62</td>\n",
       "      <td>61</td>\n",
       "      <td>76</td>\n",
       "      <td>0</td>\n",
       "      <td>2</td>\n",
       "      <td>2</td>\n",
       "      <td>False</td>\n",
       "    </tr>\n",
       "  </tbody>\n",
       "</table>\n",
       "<p>128 rows × 12 columns</p>\n",
       "</div>"
      ],
      "text/plain": [
       "       №  Наличие согласия  Согласие в МГУ  ...  сочинение  ГТО  общежитие\n",
       "194  195             False            True  ...          2    0       True\n",
       "255  256             False            True  ...          2    0      False\n",
       "256  257             False           False  ...          2    0      False\n",
       "314  315             False            True  ...          2    0      False\n",
       "326  327             False           False  ...          2    0      False\n",
       "..   ...               ...             ...  ...        ...  ...        ...\n",
       "900  901             False            True  ...          2    0       True\n",
       "901  902             False           False  ...          2    2       True\n",
       "902  903             False            True  ...          2    0      False\n",
       "903  904             False            True  ...          2    2      False\n",
       "904  905             False           False  ...          2    2      False\n",
       "\n",
       "[128 rows x 12 columns]"
      ]
     },
     "execution_count": 16,
     "metadata": {},
     "output_type": "execute_result"
    }
   ],
   "source": [
    "entrants.query(\"физика < 80\") "
   ]
  },
  {
   "cell_type": "markdown",
   "id": "X6RuAa95-7Bo",
   "metadata": {
    "id": "X6RuAa95-7Bo"
   },
   "source": [
    "Выдвинем следующую гипотезу:\n",
    "студенты, успешно сдавшие ЕГЭ по математике, должны были хорошо сдать и ДВИ. Если это так, и если мы отметим всех студентов в координатах \"Балл за ДВИ\" - \"Балл за ЕГЭ по математике\", мы должны увидеть скопление в области высоких баллов по обеим осям. Изобразим такой поточечный график "
   ]
  },
  {
   "cell_type": "code",
   "execution_count": null,
   "id": "rS6GbxYp-7Bo",
   "metadata": {
    "colab": {
     "base_uri": "https://localhost:8080/",
     "height": 296
    },
    "id": "rS6GbxYp-7Bo",
    "outputId": "d1b8b5f5-757f-4230-a9b5-215749d6ad49"
   },
   "outputs": [
    {
     "data": {
      "text/plain": [
       "<matplotlib.axes._subplots.AxesSubplot at 0x7fe70fd22190>"
      ]
     },
     "execution_count": 17,
     "metadata": {},
     "output_type": "execute_result"
    },
    {
     "data": {
      "image/png": "[encoded data removed]",
      "text/plain": [
       "<Figure size 432x288 with 1 Axes>"
      ]
     },
     "metadata": {
      "needs_background": "light"
     },
     "output_type": "display_data"
    }
   ],
   "source": [
    "entrants.plot.scatter(\"ДВИ\", \"математика\")"
   ]
  },
  {
   "cell_type": "markdown",
   "id": "TVRSo77I-7Bo",
   "metadata": {
    "id": "TVRSo77I-7Bo"
   },
   "source": [
    "Кажется, что распределение баллов по математике при каждом фиксированном балле за ДВИ почти равномерное в области \"Балл за математику > 75\". Но так ли это в действительности? Может быть, все дело в особенности отображения поточечного графика?\n",
    "\n",
    "Нарисуем другой тип графика — так называемые \"свечи\":"
   ]
  },
  {
   "cell_type": "code",
   "execution_count": 101,
   "id": "YLpRlLEZ-7Bo",
   "metadata": {
    "colab": {
     "base_uri": "https://localhost:8080/",
     "height": 337
    },
    "id": "YLpRlLEZ-7Bo",
    "outputId": "e4df0a43-4955-4753-b35e-a44036db080b"
   },
   "outputs": [
    {
     "data": {
      "image/png": "[encoded data removed]",
      "text/plain": [
       "<Figure size 640x480 with 1 Axes>"
      ]
     },
     "metadata": {},
     "output_type": "display_data"
    }
   ],
   "source": [
    "entrants.pivot_table(index='№', columns='ДВИ', values='математика').boxplot();"
   ]
  },
  {
   "cell_type": "markdown",
   "id": "tOW_9Xl7-7Bp",
   "metadata": {
    "id": "tOW_9Xl7-7Bp"
   },
   "source": [
    "Обратите внимание, мы действительно наблюдаем смещение медианного значения балла ЕГЭ по математике ближе к 100 при увеличении баллов за ДВИ. Это подтверждает нашу гипотезу. Проверим это, применив усреднение"
   ]
  },
  {
   "cell_type": "code",
   "execution_count": 102,
   "id": "OQrTJAIo-7Bp",
   "metadata": {
    "colab": {
     "base_uri": "https://localhost:8080/",
     "height": 426
    },
    "id": "OQrTJAIo-7Bp",
    "outputId": "a7d309d6-7de2-419c-fe58-7bfb562d59dc"
   },
   "outputs": [
    {
     "data": {
      "text/html": [
       "<div>\n",
       "<style scoped>\n",
       "    .dataframe tbody tr th:only-of-type {\n",
       "        vertical-align: middle;\n",
       "    }\n",
       "\n",
       "    .dataframe tbody tr th {\n",
       "        vertical-align: top;\n",
       "    }\n",
       "\n",
       "    .dataframe thead th {\n",
       "        text-align: right;\n",
       "    }\n",
       "</style>\n",
       "<table border=\"1\" class=\"dataframe\">\n",
       "  <thead>\n",
       "    <tr style=\"text-align: right;\">\n",
       "      <th></th>\n",
       "      <th>математика</th>\n",
       "    </tr>\n",
       "    <tr>\n",
       "      <th>ДВИ</th>\n",
       "      <th></th>\n",
       "    </tr>\n",
       "  </thead>\n",
       "  <tbody>\n",
       "    <tr>\n",
       "      <th>50</th>\n",
       "      <td>84.073171</td>\n",
       "    </tr>\n",
       "    <tr>\n",
       "      <th>55</th>\n",
       "      <td>85.217391</td>\n",
       "    </tr>\n",
       "    <tr>\n",
       "      <th>60</th>\n",
       "      <td>86.408451</td>\n",
       "    </tr>\n",
       "    <tr>\n",
       "      <th>65</th>\n",
       "      <td>85.467532</td>\n",
       "    </tr>\n",
       "    <tr>\n",
       "      <th>70</th>\n",
       "      <td>87.857143</td>\n",
       "    </tr>\n",
       "    <tr>\n",
       "      <th>75</th>\n",
       "      <td>88.162162</td>\n",
       "    </tr>\n",
       "    <tr>\n",
       "      <th>80</th>\n",
       "      <td>89.401361</td>\n",
       "    </tr>\n",
       "    <tr>\n",
       "      <th>85</th>\n",
       "      <td>90.433333</td>\n",
       "    </tr>\n",
       "    <tr>\n",
       "      <th>90</th>\n",
       "      <td>91.817073</td>\n",
       "    </tr>\n",
       "    <tr>\n",
       "      <th>95</th>\n",
       "      <td>92.133333</td>\n",
       "    </tr>\n",
       "    <tr>\n",
       "      <th>100</th>\n",
       "      <td>94.192982</td>\n",
       "    </tr>\n",
       "  </tbody>\n",
       "</table>\n",
       "</div>"
      ],
      "text/plain": [
       "     математика\n",
       "ДВИ            \n",
       "50    84.073171\n",
       "55    85.217391\n",
       "60    86.408451\n",
       "65    85.467532\n",
       "70    87.857143\n",
       "75    88.162162\n",
       "80    89.401361\n",
       "85    90.433333\n",
       "90    91.817073\n",
       "95    92.133333\n",
       "100   94.192982"
      ]
     },
     "execution_count": 102,
     "metadata": {},
     "output_type": "execute_result"
    }
   ],
   "source": [
    "entrants.pivot_table(index='ДВИ', values='математика', aggfunc='mean')"
   ]
  },
  {
   "cell_type": "code",
   "execution_count": 105,
   "id": "g0VCBaLR-7Bp",
   "metadata": {
    "colab": {
     "base_uri": "https://localhost:8080/",
     "height": 296
    },
    "id": "g0VCBaLR-7Bp",
    "outputId": "685d5472-2cd3-45e0-dd8a-a5b996a75a97"
   },
   "outputs": [
    {
     "data": {
      "image/png": "[encoded data removed]",
      "text/plain": [
       "<Figure size 640x480 with 1 Axes>"
      ]
     },
     "metadata": {},
     "output_type": "display_data"
    }
   ],
   "source": [
    "entrants.pivot_table(index='ДВИ', values='математика', aggfunc='mean').plot();"
   ]
  },
  {
   "cell_type": "markdown",
   "id": "B2-O0OsD-7Bp",
   "metadata": {
    "id": "B2-O0OsD-7Bp"
   },
   "source": [
    "Есть ли подобные корелляции в случае с парой \"Физика\"/\"Математика\"?"
   ]
  },
  {
   "cell_type": "code",
   "execution_count": 107,
   "id": "Ax1-XNIF-7Bp",
   "metadata": {
    "colab": {
     "base_uri": "https://localhost:8080/",
     "height": 296
    },
    "id": "Ax1-XNIF-7Bp",
    "outputId": "b57c4f8f-69a3-4cef-c2f7-3be285552cf0"
   },
   "outputs": [
    {
     "data": {
      "image/png": "[encoded data removed]",
      "text/plain": [
       "<Figure size 640x480 with 1 Axes>"
      ]
     },
     "metadata": {},
     "output_type": "display_data"
    }
   ],
   "source": [
    "entrants.plot.scatter(\"физика\", \"математика\");"
   ]
  },
  {
   "cell_type": "code",
   "execution_count": 117,
   "id": "hOap9la0-7Bp",
   "metadata": {
    "colab": {
     "base_uri": "https://localhost:8080/",
     "height": 337
    },
    "id": "hOap9la0-7Bp",
    "outputId": "4dc2978c-ad5e-4fd2-ffbe-895de641b1aa"
   },
   "outputs": [
    {
     "data": {
      "image/png": "[encoded data removed]",
      "text/plain": [
       "<Figure size 1200x600 with 1 Axes>"
      ]
     },
     "metadata": {},
     "output_type": "display_data"
    }
   ],
   "source": [
    "import matplotlib.pyplot as plt\n",
    "plt.figure(figsize=(12,6))\n",
    "entrants.pivot_table(index='№', columns='физика', values='математика').boxplot();"
   ]
  },
  {
   "cell_type": "markdown",
   "id": "hYptbgt4-7Bq",
   "metadata": {
    "id": "hYptbgt4-7Bq"
   },
   "source": [
    "Здесь корелляция видна невооруженным глазом. Протестируем другие пары предметов"
   ]
  },
  {
   "cell_type": "code",
   "execution_count": 118,
   "id": "7BhlMxze-7Bq",
   "metadata": {
    "colab": {
     "base_uri": "https://localhost:8080/",
     "height": 296
    },
    "id": "7BhlMxze-7Bq",
    "outputId": "743fedfa-6082-4651-f0aa-1b111a854c5e"
   },
   "outputs": [
    {
     "data": {
      "image/png": "[encoded data removed]",
      "text/plain": [
       "<Figure size 640x480 with 1 Axes>"
      ]
     },
     "metadata": {},
     "output_type": "display_data"
    }
   ],
   "source": [
    "entrants.plot.scatter(\"математика\", \"русский\");"
   ]
  },
  {
   "cell_type": "code",
   "execution_count": 120,
   "id": "OAgGrXRE-7Bq",
   "metadata": {
    "colab": {
     "base_uri": "https://localhost:8080/",
     "height": 337
    },
    "id": "OAgGrXRE-7Bq",
    "outputId": "82eb4518-ab0d-4fa7-9d6a-facef347faab"
   },
   "outputs": [
    {
     "data": {
      "image/png": "[encoded data removed]",
      "text/plain": [
       "<Figure size 1200x600 with 1 Axes>"
      ]
     },
     "metadata": {},
     "output_type": "display_data"
    }
   ],
   "source": [
    "plt.figure(figsize=(12,6))\n",
    "entrants.pivot_table(index='№', columns='математика', values='русский').boxplot();"
   ]
  },
  {
   "cell_type": "markdown",
   "id": "XQuRtsW--7Bq",
   "metadata": {
    "id": "XQuRtsW--7Bq"
   },
   "source": [
    "С русским языком такой корелляции не прослеживается. Это объяснимо: знание физики и математики связано друг с другом, как и способность студента одновременно хорошо сдать математику ДВИ и математику ЕГЭ. С русским языком же такой зависимости не наблюдается."
   ]
  },
  {
   "cell_type": "code",
   "execution_count": null,
   "id": "JSU-VfkMR13r",
   "metadata": {
    "colab": {
     "base_uri": "https://localhost:8080/",
     "height": 363
    },
    "id": "JSU-VfkMR13r",
    "outputId": "9a2b0a80-1bb4-4293-a210-9b8e9658f88d"
   },
   "outputs": [
    {
     "data": {
      "text/html": [
       "\n",
       "  <div id=\"df-f18d37ca-e7f8-414a-ad38-9f8f72f7fcdc\">\n",
       "    <div class=\"colab-df-container\">\n",
       "      <div>\n",
       "<style scoped>\n",
       "    .dataframe tbody tr th:only-of-type {\n",
       "        vertical-align: middle;\n",
       "    }\n",
       "\n",
       "    .dataframe tbody tr th {\n",
       "        vertical-align: top;\n",
       "    }\n",
       "\n",
       "    .dataframe thead th {\n",
       "        text-align: right;\n",
       "    }\n",
       "</style>\n",
       "<table border=\"1\" class=\"dataframe\">\n",
       "  <thead>\n",
       "    <tr style=\"text-align: right;\">\n",
       "      <th></th>\n",
       "      <th>clientid</th>\n",
       "      <th>date</th>\n",
       "      <th>weekdays</th>\n",
       "      <th>gains</th>\n",
       "      <th>prices</th>\n",
       "      <th>up</th>\n",
       "    </tr>\n",
       "  </thead>\n",
       "  <tbody>\n",
       "    <tr>\n",
       "      <th>0</th>\n",
       "      <td>0</td>\n",
       "      <td>2008-04-30</td>\n",
       "      <td>Wed</td>\n",
       "      <td>-0.524582</td>\n",
       "      <td>7.791404e+06</td>\n",
       "      <td>False</td>\n",
       "    </tr>\n",
       "    <tr>\n",
       "      <th>1</th>\n",
       "      <td>1</td>\n",
       "      <td>2008-05-01</td>\n",
       "      <td>Thu</td>\n",
       "      <td>0.076192</td>\n",
       "      <td>3.167181e+06</td>\n",
       "      <td>True</td>\n",
       "    </tr>\n",
       "    <tr>\n",
       "      <th>2</th>\n",
       "      <td>2</td>\n",
       "      <td>2008-05-02</td>\n",
       "      <td>Fri</td>\n",
       "      <td>-0.868510</td>\n",
       "      <td>9.589767e+06</td>\n",
       "      <td>False</td>\n",
       "    </tr>\n",
       "    <tr>\n",
       "      <th>3</th>\n",
       "      <td>3</td>\n",
       "      <td>2008-05-03</td>\n",
       "      <td>Sat</td>\n",
       "      <td>-0.427011</td>\n",
       "      <td>8.949415e+06</td>\n",
       "      <td>False</td>\n",
       "    </tr>\n",
       "    <tr>\n",
       "      <th>4</th>\n",
       "      <td>4</td>\n",
       "      <td>2008-05-04</td>\n",
       "      <td>Sun</td>\n",
       "      <td>0.253255</td>\n",
       "      <td>9.371634e+05</td>\n",
       "      <td>True</td>\n",
       "    </tr>\n",
       "    <tr>\n",
       "      <th>5</th>\n",
       "      <td>5</td>\n",
       "      <td>2008-05-05</td>\n",
       "      <td>Mon</td>\n",
       "      <td>-0.681516</td>\n",
       "      <td>9.495799e+05</td>\n",
       "      <td>False</td>\n",
       "    </tr>\n",
       "    <tr>\n",
       "      <th>6</th>\n",
       "      <td>6</td>\n",
       "      <td>2008-05-06</td>\n",
       "      <td>Tue</td>\n",
       "      <td>0.007191</td>\n",
       "      <td>7.268427e+06</td>\n",
       "      <td>True</td>\n",
       "    </tr>\n",
       "    <tr>\n",
       "      <th>7</th>\n",
       "      <td>7</td>\n",
       "      <td>2008-05-07</td>\n",
       "      <td>Wed</td>\n",
       "      <td>0.674497</td>\n",
       "      <td>7.517015e+06</td>\n",
       "      <td>True</td>\n",
       "    </tr>\n",
       "    <tr>\n",
       "      <th>8</th>\n",
       "      <td>8</td>\n",
       "      <td>2008-05-08</td>\n",
       "      <td>Thu</td>\n",
       "      <td>-1.184101</td>\n",
       "      <td>1.920960e+06</td>\n",
       "      <td>False</td>\n",
       "    </tr>\n",
       "    <tr>\n",
       "      <th>9</th>\n",
       "      <td>9</td>\n",
       "      <td>2008-05-09</td>\n",
       "      <td>Fri</td>\n",
       "      <td>-1.580369</td>\n",
       "      <td>8.456241e+06</td>\n",
       "      <td>False</td>\n",
       "    </tr>\n",
       "  </tbody>\n",
       "</table>\n",
       "</div>\n",
       "      <button class=\"colab-df-convert\" onclick=\"convertToInteractive('df-f18d37ca-e7f8-414a-ad38-9f8f72f7fcdc')\"\n",
       "              title=\"Convert this dataframe to an interactive table.\"\n",
       "              style=\"display:none;\">\n",
       "        \n",
       "  <svg xmlns=\"http://www.w3.org/2000/svg\" height=\"24px\"viewBox=\"0 0 24 24\"\n",
       "       width=\"24px\">\n",
       "    <path d=\"M0 0h24v24H0V0z\" fill=\"none\"/>\n",
       "    <path d=\"M18.56 5.44l.94 2.06.94-2.06 2.06-.94-2.06-.94-.94-2.06-.94 2.06-2.06.94zm-11 1L8.5 8.5l.94-2.06 2.06-.94-2.06-.94L8.5 2.5l-.94 2.06-2.06.94zm10 10l.94 2.06.94-2.06 2.06-.94-2.06-.94-.94-2.06-.94 2.06-2.06.94z\"/><path d=\"M17.41 7.96l-1.37-1.37c-.4-.4-.92-.59-1.43-.59-.52 0-1.04.2-1.43.59L10.3 9.45l-7.72 7.72c-.78.78-.78 2.05 0 2.83L4 21.41c.39.39.9.59 1.41.59.51 0 1.02-.2 1.41-.59l7.78-7.78 2.81-2.81c.8-.78.8-2.07 0-2.86zM5.41 20L4 18.59l7.72-7.72 1.47 1.35L5.41 20z\"/>\n",
       "  </svg>\n",
       "      </button>\n",
       "      \n",
       "  <style>\n",
       "    .colab-df-container {\n",
       "      display:flex;\n",
       "      flex-wrap:wrap;\n",
       "      gap: 12px;\n",
       "    }\n",
       "\n",
       "    .colab-df-convert {\n",
       "      background-color: #E8F0FE;\n",
       "      border: none;\n",
       "      border-radius: 50%;\n",
       "      cursor: pointer;\n",
       "      display: none;\n",
       "      fill: #1967D2;\n",
       "      height: 32px;\n",
       "      padding: 0 0 0 0;\n",
       "      width: 32px;\n",
       "    }\n",
       "\n",
       "    .colab-df-convert:hover {\n",
       "      background-color: #E2EBFA;\n",
       "      box-shadow: 0px 1px 2px rgba(60, 64, 67, 0.3), 0px 1px 3px 1px rgba(60, 64, 67, 0.15);\n",
       "      fill: #174EA6;\n",
       "    }\n",
       "\n",
       "    [theme=dark] .colab-df-convert {\n",
       "      background-color: #3B4455;\n",
       "      fill: #D2E3FC;\n",
       "    }\n",
       "\n",
       "    [theme=dark] .colab-df-convert:hover {\n",
       "      background-color: #434B5C;\n",
       "      box-shadow: 0px 1px 3px 1px rgba(0, 0, 0, 0.15);\n",
       "      filter: drop-shadow(0px 1px 2px rgba(0, 0, 0, 0.3));\n",
       "      fill: #FFFFFF;\n",
       "    }\n",
       "  </style>\n",
       "\n",
       "      <script>\n",
       "        const buttonEl =\n",
       "          document.querySelector('#df-f18d37ca-e7f8-414a-ad38-9f8f72f7fcdc button.colab-df-convert');\n",
       "        buttonEl.style.display =\n",
       "          google.colab.kernel.accessAllowed ? 'block' : 'none';\n",
       "\n",
       "        async function convertToInteractive(key) {\n",
       "          const element = document.querySelector('#df-f18d37ca-e7f8-414a-ad38-9f8f72f7fcdc');\n",
       "          const dataTable =\n",
       "            await google.colab.kernel.invokeFunction('convertToInteractive',\n",
       "                                                     [key], {});\n",
       "          if (!dataTable) return;\n",
       "\n",
       "          const docLinkHtml = 'Like what you see? Visit the ' +\n",
       "            '<a target=\"_blank\" href=https://colab.research.google.com/notebooks/data_table.ipynb>data table notebook</a>'\n",
       "            + ' to learn more about interactive tables.';\n",
       "          element.innerHTML = '';\n",
       "          dataTable['output_type'] = 'display_data';\n",
       "          await google.colab.output.renderOutput(dataTable, element);\n",
       "          const docLink = document.createElement('div');\n",
       "          docLink.innerHTML = docLinkHtml;\n",
       "          element.appendChild(docLink);\n",
       "        }\n",
       "      </script>\n",
       "    </div>\n",
       "  </div>\n",
       "  "
      ],
      "text/plain": [
       "   clientid        date weekdays     gains        prices     up\n",
       "0         0  2008-04-30      Wed -0.524582  7.791404e+06  False\n",
       "1         1  2008-05-01      Thu  0.076192  3.167181e+06   True\n",
       "2         2  2008-05-02      Fri -0.868510  9.589767e+06  False\n",
       "3         3  2008-05-03      Sat -0.427011  8.949415e+06  False\n",
       "4         4  2008-05-04      Sun  0.253255  9.371634e+05   True\n",
       "5         5  2008-05-05      Mon -0.681516  9.495799e+05  False\n",
       "6         6  2008-05-06      Tue  0.007191  7.268427e+06   True\n",
       "7         7  2008-05-07      Wed  0.674497  7.517015e+06   True\n",
       "8         8  2008-05-08      Thu -1.184101  1.920960e+06  False\n",
       "9         9  2008-05-09      Fri -1.580369  8.456241e+06  False"
      ]
     },
     "execution_count": 98,
     "metadata": {},
     "output_type": "execute_result"
    }
   ],
   "source": [
    "data"
   ]
  }
 ],
 "metadata": {
  "colab": {
   "collapsed_sections": [
    "ZayXWG7a-7BF",
    "wQSQSPtx-7BH",
    "d4I5UdGV-7BI",
    "8BeotQWa-7BK",
    "pupXb_gF-7BM",
    "g5h6yziZ-7BP",
    "gJrfGcsK-7BQ",
    "5gpI2AA2-7BR",
    "wxMiGMwM-7BT",
    "4Kdv5UIa-7BV",
    "x48YL1EN-7BY",
    "C85ktMjZ-7BZ",
    "ZgYtR9iQ-7Bc",
    "nET3M0_t-7Bd",
    "Yr0hcBxl-7Be",
    "OsXiNmZz-7Bg"
   ],
   "provenance": []
  },
  "kernelspec": {
   "display_name": "Python 3 (ipykernel)",
   "language": "python",
   "name": "python3"
  },
  "language_info": {
   "codemirror_mode": {
    "name": "ipython",
    "version": 3
   },
   "file_extension": ".py",
   "mimetype": "text/x-python",
   "name": "python",
   "nbconvert_exporter": "python",
   "pygments_lexer": "ipython3",
   "version": "3.9.13"
  }
 },
 "nbformat": 4,
 "nbformat_minor": 5
}
